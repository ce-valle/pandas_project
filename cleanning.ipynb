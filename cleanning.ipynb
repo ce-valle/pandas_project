{
 "cells": [
  {
   "cell_type": "code",
   "execution_count": 1,
   "metadata": {},
   "outputs": [],
   "source": [
    "import pandas as pd\n",
    "import numpy as np\n",
    "import seaborn as sns\n",
    "import matplotlib.pyplot as plt\n",
    "import pandas as pd"
   ]
  },
  {
   "cell_type": "code",
   "execution_count": 2,
   "metadata": {},
   "outputs": [],
   "source": [
    "import sys\n",
    "sys.path.append(\"../\")\n",
    "from src.functions import *\n",
    "#importo las funciones de mi archivo de funciones"
   ]
  },
  {
   "cell_type": "code",
   "execution_count": 3,
   "metadata": {},
   "outputs": [],
   "source": [
    "attacks = pd.read_csv(\"Data/attacks.csv\") \n",
    "#hago una copia de la base de datos original para trabajar sobre ella\n",
    "attacks_2 = attacks.copy()\n"
   ]
  },
  {
   "cell_type": "code",
   "execution_count": 4,
   "metadata": {},
   "outputs": [
    {
     "data": {
      "text/plain": [
       "['Case Number',\n",
       " 'Date',\n",
       " 'Year',\n",
       " 'Type',\n",
       " 'Country',\n",
       " 'Area',\n",
       " 'Location',\n",
       " 'Activity',\n",
       " 'Name',\n",
       " 'Sex ',\n",
       " 'Age',\n",
       " 'Injury',\n",
       " 'Fatal (Y/N)',\n",
       " 'Time',\n",
       " 'Species ',\n",
       " 'Investigator or Source',\n",
       " 'pdf',\n",
       " 'href formula',\n",
       " 'href',\n",
       " 'Case Number.1',\n",
       " 'Case Number.2',\n",
       " 'original order',\n",
       " 'Unnamed: 22',\n",
       " 'Unnamed: 23']"
      ]
     },
     "execution_count": 4,
     "metadata": {},
     "output_type": "execute_result"
    }
   ],
   "source": [
    "columnas = list(attacks_2.columns)\n",
    "columnas"
   ]
  },
  {
   "cell_type": "code",
   "execution_count": 5,
   "metadata": {},
   "outputs": [
    {
     "data": {
      "text/plain": [
       "{'Case Number': 'case_number',\n",
       " 'Date': 'date',\n",
       " 'Year': 'year',\n",
       " 'Type': 'type',\n",
       " 'Country': 'country',\n",
       " 'Area': 'area',\n",
       " 'Location': 'location',\n",
       " 'Activity': 'activity',\n",
       " 'Name': 'name',\n",
       " 'Sex ': 'sex_',\n",
       " 'Age': 'age',\n",
       " 'Injury': 'injury',\n",
       " 'Fatal (Y/N)': 'fatal_(y/n)',\n",
       " 'Time': 'time',\n",
       " 'Species ': 'species_',\n",
       " 'Investigator or Source': 'investigator_or_source',\n",
       " 'pdf': 'pdf',\n",
       " 'href formula': 'href_formula',\n",
       " 'href': 'href',\n",
       " 'Case Number.1': 'case_number.1',\n",
       " 'Case Number.2': 'case_number.2',\n",
       " 'original order': 'original_order',\n",
       " 'Unnamed: 22': 'unnamed:_22',\n",
       " 'Unnamed: 23': 'unnamed:_23'}"
      ]
     },
     "execution_count": 5,
     "metadata": {},
     "output_type": "execute_result"
    }
   ],
   "source": [
    "dict_columns = columns_name(columnas)\n",
    "dict_columns"
   ]
  },
  {
   "cell_type": "code",
   "execution_count": 6,
   "metadata": {},
   "outputs": [
    {
     "data": {
      "text/plain": [
       "Index(['case_number', 'date', 'year', 'type', 'country', 'area', 'location',\n",
       "       'activity', 'name', 'sex_', 'age', 'injury', 'fatal_(y/n)', 'time',\n",
       "       'species_', 'investigator_or_source', 'pdf', 'href_formula', 'href',\n",
       "       'case_number.1', 'case_number.2', 'original_order', 'unnamed:_22',\n",
       "       'unnamed:_23'],\n",
       "      dtype='object')"
      ]
     },
     "execution_count": 6,
     "metadata": {},
     "output_type": "execute_result"
    }
   ],
   "source": [
    "attacks_2.rename(columns = dict_columns, inplace=True)\n",
    "attacks_2.columns"
   ]
  },
  {
   "cell_type": "code",
   "execution_count": 7,
   "metadata": {},
   "outputs": [
    {
     "data": {
      "text/plain": [
       "Index(['case_number', 'date', 'year', 'type', 'country', 'area', 'location',\n",
       "       'activity', 'name', 'sex_', 'age', 'injury', 'fatal_(y/n)', 'time',\n",
       "       'species_', 'investigator_or_source', 'original_order'],\n",
       "      dtype='object')"
      ]
     },
     "execution_count": 7,
     "metadata": {},
     "output_type": "execute_result"
    }
   ],
   "source": [
    "attacks_2.drop(columns=[\"unnamed:_22\",\"unnamed:_23\",\"pdf\", \"href_formula\", \"href\", \"case_number.1\", \"case_number.2\"], inplace=True)\n",
    "#elimino las columnas Unnamed 23 y 23 ya que prácticamente todos sus datos son nulos\n",
    "attacks_2.columns"
   ]
  },
  {
   "cell_type": "code",
   "execution_count": 8,
   "metadata": {},
   "outputs": [
    {
     "data": {
      "text/plain": [
       "(25723, 17)"
      ]
     },
     "execution_count": 8,
     "metadata": {},
     "output_type": "execute_result"
    }
   ],
   "source": [
    "attacks_2.shape #inspecciono la forma de la base de datos"
   ]
  },
  {
   "cell_type": "code",
   "execution_count": 9,
   "metadata": {},
   "outputs": [
    {
     "data": {
      "text/plain": [
       "(25723, 17)"
      ]
     },
     "execution_count": 9,
     "metadata": {},
     "output_type": "execute_result"
    }
   ],
   "source": [
    "attacks_2.drop_duplicates() #elimino los duplicados\n",
    "attacks_2.shape \n",
    "#al comprobar la forma al eliminar los duplicados vemos que no hay datos duplicados"
   ]
  },
  {
   "cell_type": "code",
   "execution_count": 10,
   "metadata": {},
   "outputs": [
    {
     "data": {
      "text/plain": [
       "(8703, 17)"
      ]
     },
     "execution_count": 10,
     "metadata": {},
     "output_type": "execute_result"
    }
   ],
   "source": [
    "attacks_2.dropna(how=\"all\", inplace=True)\n",
    "'''Elimino las filas en las que todos sus valores son nulos'''\n",
    "attacks_2.shape"
   ]
  },
  {
   "cell_type": "code",
   "execution_count": 11,
   "metadata": {},
   "outputs": [
    {
     "data": {
      "text/plain": [
       "case_number                  1\n",
       "date                      2401\n",
       "year                      2403\n",
       "type                      2405\n",
       "country                   2451\n",
       "area                      2856\n",
       "location                  2941\n",
       "activity                  2945\n",
       "name                      2611\n",
       "sex_                      2966\n",
       "age                       5232\n",
       "injury                    2429\n",
       "fatal_(y/n)               2940\n",
       "time                      5755\n",
       "species_                  5239\n",
       "investigator_or_source    2418\n",
       "original_order            2394\n",
       "dtype: int64"
      ]
     },
     "execution_count": 11,
     "metadata": {},
     "output_type": "execute_result"
    }
   ],
   "source": [
    "'''Inspecciono el número de NaN por columna'''\n",
    "attacks_2.isna().sum()"
   ]
  },
  {
   "cell_type": "code",
   "execution_count": 12,
   "metadata": {},
   "outputs": [
    {
     "data": {
      "text/html": [
       "<div>\n",
       "<style scoped>\n",
       "    .dataframe tbody tr th:only-of-type {\n",
       "        vertical-align: middle;\n",
       "    }\n",
       "\n",
       "    .dataframe tbody tr th {\n",
       "        vertical-align: top;\n",
       "    }\n",
       "\n",
       "    .dataframe thead th {\n",
       "        text-align: right;\n",
       "    }\n",
       "</style>\n",
       "<table border=\"1\" class=\"dataframe\">\n",
       "  <thead>\n",
       "    <tr style=\"text-align: right;\">\n",
       "      <th></th>\n",
       "      <th>case_number</th>\n",
       "      <th>date</th>\n",
       "      <th>year</th>\n",
       "      <th>type</th>\n",
       "      <th>country</th>\n",
       "      <th>area</th>\n",
       "      <th>location</th>\n",
       "      <th>activity</th>\n",
       "      <th>name</th>\n",
       "      <th>sex_</th>\n",
       "      <th>age</th>\n",
       "      <th>injury</th>\n",
       "      <th>fatal_(y/n)</th>\n",
       "      <th>time</th>\n",
       "      <th>species_</th>\n",
       "      <th>investigator_or_source</th>\n",
       "      <th>original_order</th>\n",
       "      <th>month</th>\n",
       "    </tr>\n",
       "  </thead>\n",
       "  <tbody>\n",
       "    <tr>\n",
       "      <th>7814</th>\n",
       "      <td>0</td>\n",
       "      <td>NaN</td>\n",
       "      <td>NaN</td>\n",
       "      <td>NaN</td>\n",
       "      <td>NaN</td>\n",
       "      <td>NaN</td>\n",
       "      <td>NaN</td>\n",
       "      <td>NaN</td>\n",
       "      <td>NaN</td>\n",
       "      <td>NaN</td>\n",
       "      <td>NaN</td>\n",
       "      <td>NaN</td>\n",
       "      <td>NaN</td>\n",
       "      <td>NaN</td>\n",
       "      <td>NaN</td>\n",
       "      <td>NaN</td>\n",
       "      <td>NaN</td>\n",
       "      <td>NaN</td>\n",
       "    </tr>\n",
       "    <tr>\n",
       "      <th>8539</th>\n",
       "      <td>0</td>\n",
       "      <td>NaN</td>\n",
       "      <td>NaN</td>\n",
       "      <td>NaN</td>\n",
       "      <td>NaN</td>\n",
       "      <td>NaN</td>\n",
       "      <td>NaN</td>\n",
       "      <td>NaN</td>\n",
       "      <td>NaN</td>\n",
       "      <td>NaN</td>\n",
       "      <td>NaN</td>\n",
       "      <td>NaN</td>\n",
       "      <td>NaN</td>\n",
       "      <td>NaN</td>\n",
       "      <td>NaN</td>\n",
       "      <td>NaN</td>\n",
       "      <td>NaN</td>\n",
       "      <td>NaN</td>\n",
       "    </tr>\n",
       "    <tr>\n",
       "      <th>1413</th>\n",
       "      <td>2006.12.11</td>\n",
       "      <td>11-Dec-2006</td>\n",
       "      <td>2006.0</td>\n",
       "      <td>Unprovoked</td>\n",
       "      <td>NEW ZEALAND</td>\n",
       "      <td>North Island</td>\n",
       "      <td>Raglan, Manu Bay</td>\n",
       "      <td>Surfing</td>\n",
       "      <td>Elliot Paerata-Reid</td>\n",
       "      <td>M</td>\n",
       "      <td>10</td>\n",
       "      <td>Foot bitten</td>\n",
       "      <td>N</td>\n",
       "      <td>11h00</td>\n",
       "      <td>2 to 3 m shark</td>\n",
       "      <td>R.D. Weeks, GSAF</td>\n",
       "      <td>4890.0</td>\n",
       "      <td>Dec</td>\n",
       "    </tr>\n",
       "    <tr>\n",
       "      <th>2699</th>\n",
       "      <td>1989.01.08</td>\n",
       "      <td>08-Jan-1989</td>\n",
       "      <td>1989.0</td>\n",
       "      <td>Unprovoked</td>\n",
       "      <td>USA</td>\n",
       "      <td>Hawaii</td>\n",
       "      <td>Wailua, Kaua'i</td>\n",
       "      <td>Swimming in strong current with 3 others when ...</td>\n",
       "      <td>Ken Ahlstrand</td>\n",
       "      <td>M</td>\n",
       "      <td>NaN</td>\n",
       "      <td>Lower part of body found 6 days later, x-rays ...</td>\n",
       "      <td>Y</td>\n",
       "      <td>NaN</td>\n",
       "      <td>NaN</td>\n",
       "      <td>J. Borg, p.77; L. Taylor (1993), pp.106-107</td>\n",
       "      <td>3604.0</td>\n",
       "      <td>Jan</td>\n",
       "    </tr>\n",
       "    <tr>\n",
       "      <th>8391</th>\n",
       "      <td>0</td>\n",
       "      <td>NaN</td>\n",
       "      <td>NaN</td>\n",
       "      <td>NaN</td>\n",
       "      <td>NaN</td>\n",
       "      <td>NaN</td>\n",
       "      <td>NaN</td>\n",
       "      <td>NaN</td>\n",
       "      <td>NaN</td>\n",
       "      <td>NaN</td>\n",
       "      <td>NaN</td>\n",
       "      <td>NaN</td>\n",
       "      <td>NaN</td>\n",
       "      <td>NaN</td>\n",
       "      <td>NaN</td>\n",
       "      <td>NaN</td>\n",
       "      <td>NaN</td>\n",
       "      <td>NaN</td>\n",
       "    </tr>\n",
       "  </tbody>\n",
       "</table>\n",
       "</div>"
      ],
      "text/plain": [
       "     case_number         date    year        type      country          area  \\\n",
       "7814           0          NaN     NaN         NaN          NaN           NaN   \n",
       "8539           0          NaN     NaN         NaN          NaN           NaN   \n",
       "1413  2006.12.11  11-Dec-2006  2006.0  Unprovoked  NEW ZEALAND  North Island   \n",
       "2699  1989.01.08  08-Jan-1989  1989.0  Unprovoked          USA        Hawaii   \n",
       "8391           0          NaN     NaN         NaN          NaN           NaN   \n",
       "\n",
       "              location                                           activity  \\\n",
       "7814               NaN                                                NaN   \n",
       "8539               NaN                                                NaN   \n",
       "1413  Raglan, Manu Bay                                            Surfing   \n",
       "2699    Wailua, Kaua'i  Swimming in strong current with 3 others when ...   \n",
       "8391               NaN                                                NaN   \n",
       "\n",
       "                      name sex_  age  \\\n",
       "7814                   NaN  NaN  NaN   \n",
       "8539                   NaN  NaN  NaN   \n",
       "1413  Elliot Paerata-Reid     M   10   \n",
       "2699         Ken Ahlstrand    M  NaN   \n",
       "8391                   NaN  NaN  NaN   \n",
       "\n",
       "                                                 injury fatal_(y/n)   time  \\\n",
       "7814                                                NaN         NaN    NaN   \n",
       "8539                                                NaN         NaN    NaN   \n",
       "1413                                        Foot bitten           N  11h00   \n",
       "2699  Lower part of body found 6 days later, x-rays ...           Y    NaN   \n",
       "8391                                                NaN         NaN    NaN   \n",
       "\n",
       "            species_                       investigator_or_source  \\\n",
       "7814             NaN                                          NaN   \n",
       "8539             NaN                                          NaN   \n",
       "1413  2 to 3 m shark                             R.D. Weeks, GSAF   \n",
       "2699             NaN  J. Borg, p.77; L. Taylor (1993), pp.106-107   \n",
       "8391             NaN                                          NaN   \n",
       "\n",
       "      original_order month  \n",
       "7814             NaN   NaN  \n",
       "8539             NaN   NaN  \n",
       "1413          4890.0   Dec  \n",
       "2699          3604.0   Jan  \n",
       "8391             NaN   NaN  "
      ]
     },
     "execution_count": 12,
     "metadata": {},
     "output_type": "execute_result"
    }
   ],
   "source": [
    "attacks_2[\"month\"] = attacks_2[\"date\"].str.extract(r'([A-Z][a-z][\\w+-])')\n",
    "'''Creo una columna nueva con los meses que la extraigo de Date'''\n",
    "attacks_2.sample(5)"
   ]
  },
  {
   "cell_type": "code",
   "execution_count": 13,
   "metadata": {},
   "outputs": [
    {
     "data": {
      "text/plain": [
       "Jul    596\n",
       "Rep    550\n",
       "Aug    542\n",
       "Sep    493\n",
       "Jan    463\n",
       "Name: month, dtype: int64"
      ]
     },
     "execution_count": 13,
     "metadata": {},
     "output_type": "execute_result"
    }
   ],
   "source": [
    "attacks_2.month.value_counts().head()"
   ]
  },
  {
   "cell_type": "code",
   "execution_count": 14,
   "metadata": {},
   "outputs": [
    {
     "data": {
      "text/html": [
       "<div>\n",
       "<style scoped>\n",
       "    .dataframe tbody tr th:only-of-type {\n",
       "        vertical-align: middle;\n",
       "    }\n",
       "\n",
       "    .dataframe tbody tr th {\n",
       "        vertical-align: top;\n",
       "    }\n",
       "\n",
       "    .dataframe thead th {\n",
       "        text-align: right;\n",
       "    }\n",
       "</style>\n",
       "<table border=\"1\" class=\"dataframe\">\n",
       "  <thead>\n",
       "    <tr style=\"text-align: right;\">\n",
       "      <th></th>\n",
       "      <th>case_number</th>\n",
       "      <th>date</th>\n",
       "      <th>year</th>\n",
       "      <th>type</th>\n",
       "      <th>country</th>\n",
       "      <th>area</th>\n",
       "      <th>location</th>\n",
       "      <th>activity</th>\n",
       "      <th>name</th>\n",
       "      <th>sex_</th>\n",
       "      <th>age</th>\n",
       "      <th>injury</th>\n",
       "      <th>fatal_(y/n)</th>\n",
       "      <th>time</th>\n",
       "      <th>species_</th>\n",
       "      <th>investigator_or_source</th>\n",
       "      <th>original_order</th>\n",
       "      <th>month</th>\n",
       "    </tr>\n",
       "  </thead>\n",
       "  <tbody>\n",
       "    <tr>\n",
       "      <th>5902</th>\n",
       "      <td>1871.12.11.R</td>\n",
       "      <td>Reported 11-Dec-1871</td>\n",
       "      <td>1871.0</td>\n",
       "      <td>Invalid</td>\n",
       "      <td>AUSTRALIA</td>\n",
       "      <td>New South Wales</td>\n",
       "      <td>Hawkesbury River</td>\n",
       "      <td>NaN</td>\n",
       "      <td>male</td>\n",
       "      <td>M</td>\n",
       "      <td>NaN</td>\n",
       "      <td>Human remains recovered from 11' shark</td>\n",
       "      <td>NaN</td>\n",
       "      <td>NaN</td>\n",
       "      <td>Shark involvement prior to death unconfirmed</td>\n",
       "      <td>Border Watch, 1/10/1872</td>\n",
       "      <td>401.0</td>\n",
       "      <td>unknown</td>\n",
       "    </tr>\n",
       "    <tr>\n",
       "      <th>5173</th>\n",
       "      <td>1925.00.00</td>\n",
       "      <td>1925</td>\n",
       "      <td>1925.0</td>\n",
       "      <td>Unprovoked</td>\n",
       "      <td>FIJI</td>\n",
       "      <td>Viti Levu Island</td>\n",
       "      <td>Suva Harbor, Suva</td>\n",
       "      <td>Diving for coins tossed from passenger ship</td>\n",
       "      <td>Fijian boy</td>\n",
       "      <td>M</td>\n",
       "      <td>NaN</td>\n",
       "      <td>Both arms bitten, surgically amputated</td>\n",
       "      <td>N</td>\n",
       "      <td>NaN</td>\n",
       "      <td>NaN</td>\n",
       "      <td>V.M. Coppleson (1958), p.258</td>\n",
       "      <td>1130.0</td>\n",
       "      <td>unknown</td>\n",
       "    </tr>\n",
       "    <tr>\n",
       "      <th>5508</th>\n",
       "      <td>1904.07.27</td>\n",
       "      <td>27-Jul-1904</td>\n",
       "      <td>1904.0</td>\n",
       "      <td>Unprovoked</td>\n",
       "      <td>USA</td>\n",
       "      <td>Texas</td>\n",
       "      <td>NaN</td>\n",
       "      <td>Swimming</td>\n",
       "      <td>Chester Kennedy</td>\n",
       "      <td>M</td>\n",
       "      <td>NaN</td>\n",
       "      <td>FATAL, body not recovered</td>\n",
       "      <td>Y</td>\n",
       "      <td>NaN</td>\n",
       "      <td>NaN</td>\n",
       "      <td>New York Times, 7/28/1904</td>\n",
       "      <td>795.0</td>\n",
       "      <td>Jul</td>\n",
       "    </tr>\n",
       "    <tr>\n",
       "      <th>3070</th>\n",
       "      <td>1980.03.28</td>\n",
       "      <td>28-Mar-1980</td>\n",
       "      <td>1980.0</td>\n",
       "      <td>Unprovoked</td>\n",
       "      <td>BRAZIL</td>\n",
       "      <td>Rio de Janeiro</td>\n",
       "      <td>Copacabana Beach, Rio de Janiero</td>\n",
       "      <td>Swimming</td>\n",
       "      <td>J.M.</td>\n",
       "      <td>M</td>\n",
       "      <td>NaN</td>\n",
       "      <td>Right leg bitten</td>\n",
       "      <td>N</td>\n",
       "      <td>Afternoon</td>\n",
       "      <td>2 m shark</td>\n",
       "      <td>M. Szpilman</td>\n",
       "      <td>3233.0</td>\n",
       "      <td>Mar</td>\n",
       "    </tr>\n",
       "    <tr>\n",
       "      <th>992</th>\n",
       "      <td>2010.09.03.a</td>\n",
       "      <td>03-Sep-2010</td>\n",
       "      <td>2010.0</td>\n",
       "      <td>Unprovoked</td>\n",
       "      <td>USA</td>\n",
       "      <td>Florida</td>\n",
       "      <td>New Smyrna Beach, Volusia County</td>\n",
       "      <td>Surfing</td>\n",
       "      <td>Andrew Heald</td>\n",
       "      <td>M</td>\n",
       "      <td>24</td>\n",
       "      <td>Left thigh bitten</td>\n",
       "      <td>N</td>\n",
       "      <td>09h00</td>\n",
       "      <td>NaN</td>\n",
       "      <td>S. Petersohn;            M. Johnson, Daytona B...</td>\n",
       "      <td>5311.0</td>\n",
       "      <td>Sep</td>\n",
       "    </tr>\n",
       "  </tbody>\n",
       "</table>\n",
       "</div>"
      ],
      "text/plain": [
       "       case_number                  date    year        type    country  \\\n",
       "5902  1871.12.11.R  Reported 11-Dec-1871  1871.0     Invalid  AUSTRALIA   \n",
       "5173    1925.00.00                  1925  1925.0  Unprovoked       FIJI   \n",
       "5508    1904.07.27           27-Jul-1904  1904.0  Unprovoked        USA   \n",
       "3070    1980.03.28           28-Mar-1980  1980.0  Unprovoked     BRAZIL   \n",
       "992   2010.09.03.a           03-Sep-2010  2010.0  Unprovoked        USA   \n",
       "\n",
       "                  area                          location  \\\n",
       "5902   New South Wales                  Hawkesbury River   \n",
       "5173  Viti Levu Island                 Suva Harbor, Suva   \n",
       "5508             Texas                               NaN   \n",
       "3070    Rio de Janeiro  Copacabana Beach, Rio de Janiero   \n",
       "992            Florida  New Smyrna Beach, Volusia County   \n",
       "\n",
       "                                         activity             name sex_  age  \\\n",
       "5902                                          NaN             male    M  NaN   \n",
       "5173  Diving for coins tossed from passenger ship       Fijian boy    M  NaN   \n",
       "5508                                     Swimming  Chester Kennedy    M  NaN   \n",
       "3070                                     Swimming             J.M.    M  NaN   \n",
       "992                                       Surfing     Andrew Heald    M   24   \n",
       "\n",
       "                                      injury fatal_(y/n)       time  \\\n",
       "5902  Human remains recovered from 11' shark         NaN        NaN   \n",
       "5173  Both arms bitten, surgically amputated           N        NaN   \n",
       "5508               FATAL, body not recovered           Y        NaN   \n",
       "3070                        Right leg bitten           N  Afternoon   \n",
       "992                        Left thigh bitten           N      09h00   \n",
       "\n",
       "                                          species_  \\\n",
       "5902  Shark involvement prior to death unconfirmed   \n",
       "5173                                           NaN   \n",
       "5508                                           NaN   \n",
       "3070                                     2 m shark   \n",
       "992                                            NaN   \n",
       "\n",
       "                                 investigator_or_source  original_order  \\\n",
       "5902                            Border Watch, 1/10/1872           401.0   \n",
       "5173                       V.M. Coppleson (1958), p.258          1130.0   \n",
       "5508                          New York Times, 7/28/1904           795.0   \n",
       "3070                                        M. Szpilman          3233.0   \n",
       "992   S. Petersohn;            M. Johnson, Daytona B...          5311.0   \n",
       "\n",
       "        month  \n",
       "5902  unknown  \n",
       "5173  unknown  \n",
       "5508      Jul  \n",
       "3070      Mar  \n",
       "992       Sep  "
      ]
     },
     "execution_count": 14,
     "metadata": {},
     "output_type": "execute_result"
    }
   ],
   "source": [
    "month_lst = [\"Jan\", \"Feb\", \"Mar\", \"May\", \"Apr\", \"Jun\", \"Jul\", \"Aug\", \"Sep\", \"Oct\", \"Nov\", \"Dec\"]\n",
    "attacks_2[\"month\"].fillna(\"unknown\", inplace = True)\n",
    "#convierto los NaN en \"unknown\"\n",
    "attacks_2[\"month\"] = attacks_2[\"month\"].apply(cambio)\n",
    "#convierto los datos no válidos en \"unknown\"      \n",
    "attacks_2.sample(5)"
   ]
  },
  {
   "cell_type": "code",
   "execution_count": 15,
   "metadata": {},
   "outputs": [
    {
     "data": {
      "text/plain": [
       "unknown    3505\n",
       "Jul         596\n",
       "Aug         542\n",
       "Sep         493\n",
       "Jan         463\n",
       "Jun         441\n",
       "Apr         408\n",
       "Oct         402\n",
       "Dec         391\n",
       "Mar         379\n",
       "Nov         374\n",
       "May         360\n",
       "Feb         349\n",
       "Name: month, dtype: int64"
      ]
     },
     "execution_count": 15,
     "metadata": {},
     "output_type": "execute_result"
    }
   ],
   "source": [
    "attacks_2.month.value_counts()"
   ]
  },
  {
   "cell_type": "code",
   "execution_count": 16,
   "metadata": {},
   "outputs": [
    {
     "data": {
      "text/html": [
       "<div>\n",
       "<style scoped>\n",
       "    .dataframe tbody tr th:only-of-type {\n",
       "        vertical-align: middle;\n",
       "    }\n",
       "\n",
       "    .dataframe tbody tr th {\n",
       "        vertical-align: top;\n",
       "    }\n",
       "\n",
       "    .dataframe thead th {\n",
       "        text-align: right;\n",
       "    }\n",
       "</style>\n",
       "<table border=\"1\" class=\"dataframe\">\n",
       "  <thead>\n",
       "    <tr style=\"text-align: right;\">\n",
       "      <th></th>\n",
       "      <th>month</th>\n",
       "      <th>country</th>\n",
       "    </tr>\n",
       "  </thead>\n",
       "  <tbody>\n",
       "    <tr>\n",
       "      <th>0</th>\n",
       "      <td>Jun</td>\n",
       "      <td>USA</td>\n",
       "    </tr>\n",
       "    <tr>\n",
       "      <th>1</th>\n",
       "      <td>Jun</td>\n",
       "      <td>USA</td>\n",
       "    </tr>\n",
       "    <tr>\n",
       "      <th>2</th>\n",
       "      <td>Jun</td>\n",
       "      <td>USA</td>\n",
       "    </tr>\n",
       "    <tr>\n",
       "      <th>3</th>\n",
       "      <td>Jun</td>\n",
       "      <td>AUSTRALIA</td>\n",
       "    </tr>\n",
       "    <tr>\n",
       "      <th>4</th>\n",
       "      <td>Jun</td>\n",
       "      <td>MEXICO</td>\n",
       "    </tr>\n",
       "    <tr>\n",
       "      <th>...</th>\n",
       "      <td>...</td>\n",
       "      <td>...</td>\n",
       "    </tr>\n",
       "    <tr>\n",
       "      <th>6151</th>\n",
       "      <td>Jul</td>\n",
       "      <td>USA</td>\n",
       "    </tr>\n",
       "    <tr>\n",
       "      <th>6155</th>\n",
       "      <td>Dec</td>\n",
       "      <td>NaN</td>\n",
       "    </tr>\n",
       "    <tr>\n",
       "      <th>6159</th>\n",
       "      <td>Jun</td>\n",
       "      <td>ITALY</td>\n",
       "    </tr>\n",
       "    <tr>\n",
       "      <th>6160</th>\n",
       "      <td>Mar</td>\n",
       "      <td>BARBADOS</td>\n",
       "    </tr>\n",
       "    <tr>\n",
       "      <th>6289</th>\n",
       "      <td>Jul</td>\n",
       "      <td>SOUTH AFRICA</td>\n",
       "    </tr>\n",
       "  </tbody>\n",
       "</table>\n",
       "<p>5198 rows × 2 columns</p>\n",
       "</div>"
      ],
      "text/plain": [
       "     month       country\n",
       "0      Jun           USA\n",
       "1      Jun           USA\n",
       "2      Jun           USA\n",
       "3      Jun     AUSTRALIA\n",
       "4      Jun        MEXICO\n",
       "...    ...           ...\n",
       "6151   Jul           USA\n",
       "6155   Dec           NaN\n",
       "6159   Jun         ITALY\n",
       "6160   Mar      BARBADOS\n",
       "6289   Jul  SOUTH AFRICA\n",
       "\n",
       "[5198 rows x 2 columns]"
      ]
     },
     "execution_count": 16,
     "metadata": {},
     "output_type": "execute_result"
    }
   ],
   "source": [
    "attacks_month = attacks_2[[\"month\", \"country\"]][(attacks_2[\"month\"]!=\"unknown\")]\n",
    "#creo un data frame con los valores válidos, eliminando los \"unknown\"\n",
    "attacks_month"
   ]
  },
  {
   "cell_type": "code",
   "execution_count": 17,
   "metadata": {},
   "outputs": [
    {
     "data": {
      "text/html": [
       "<div>\n",
       "<style scoped>\n",
       "    .dataframe tbody tr th:only-of-type {\n",
       "        vertical-align: middle;\n",
       "    }\n",
       "\n",
       "    .dataframe tbody tr th {\n",
       "        vertical-align: top;\n",
       "    }\n",
       "\n",
       "    .dataframe thead th {\n",
       "        text-align: right;\n",
       "    }\n",
       "</style>\n",
       "<table border=\"1\" class=\"dataframe\">\n",
       "  <thead>\n",
       "    <tr style=\"text-align: right;\">\n",
       "      <th></th>\n",
       "      <th>month</th>\n",
       "      <th>country</th>\n",
       "    </tr>\n",
       "  </thead>\n",
       "  <tbody>\n",
       "    <tr>\n",
       "      <th>3160</th>\n",
       "      <td>December</td>\n",
       "      <td>USA</td>\n",
       "    </tr>\n",
       "    <tr>\n",
       "      <th>695</th>\n",
       "      <td>March</td>\n",
       "      <td>SOUTH AFRICA</td>\n",
       "    </tr>\n",
       "    <tr>\n",
       "      <th>5406</th>\n",
       "      <td>February</td>\n",
       "      <td>AUSTRALIA</td>\n",
       "    </tr>\n",
       "    <tr>\n",
       "      <th>401</th>\n",
       "      <td>June</td>\n",
       "      <td>SOUTH AFRICA</td>\n",
       "    </tr>\n",
       "    <tr>\n",
       "      <th>4275</th>\n",
       "      <td>November</td>\n",
       "      <td>PAPUA NEW GUINEA</td>\n",
       "    </tr>\n",
       "  </tbody>\n",
       "</table>\n",
       "</div>"
      ],
      "text/plain": [
       "         month           country\n",
       "3160  December               USA\n",
       "695      March      SOUTH AFRICA\n",
       "5406  February         AUSTRALIA\n",
       "401       June      SOUTH AFRICA\n",
       "4275  November  PAPUA NEW GUINEA"
      ]
     },
     "execution_count": 17,
     "metadata": {},
     "output_type": "execute_result"
    }
   ],
   "source": [
    "attacks_month[\"month\"] = pd.to_datetime(attacks_month[\"month\"], errors=\"coerce\", format = \"%b\")\n",
    "attacks_month[\"month\"] = pd.DatetimeIndex(attacks_month['month']).month_name()\n",
    "attacks_month = attacks_month.sort_values(by=\"month\")\n",
    "'''Ordeno la base de datos en funcióin de los meses'''\n",
    "attacks_month.sample(5)"
   ]
  },
  {
   "cell_type": "code",
   "execution_count": 18,
   "metadata": {},
   "outputs": [
    {
     "data": {
      "text/plain": [
       "array(['usa', 'mauritius', 'reunion', 'australia', 'pacific ocean',\n",
       "       'south africa', 'mozambique', 'marshall islands', 'new zealand',\n",
       "       'indonesia', 'nicaragua', 'italy', 'honduras', 'fiji', 'mexico',\n",
       "       'persian gulf', 'brazil', 'cape verde', 'new caledonia',\n",
       "       'french polynesia', 'sudan', 'philippines', 'jamaica', 'venezuela',\n",
       "       'solomon islands', nan, 'grenada', 'united kingdom', 'guam',\n",
       "       'palau', 'south atlantic ocean', 'western samoa', 'indian ocean',\n",
       "       'panama', 'tonga', 'papua new guinea', 'china', 'bahamas',\n",
       "       'st helena, british overseas territory', 'cuba', 'maldives',\n",
       "       'costa rica', 'india', 'nigeria', 'thailand', 'tobago', 'greece',\n",
       "       'taiwan', 'sudan?', 'vanuatu', 'japan', 'egypt', 'iran', 'bermuda',\n",
       "       'spain', 'senegal', 'malta', 'england', 'saudi arabia',\n",
       "       'el salvador', 'belize', 'south korea', 'croatia', 'new britain',\n",
       "       'iceland', 'scotland', 'canada', 'turkey', 'russia', 'israel',\n",
       "       'seychelles', 'north atlantic ocean', 'american samoa',\n",
       "       'iran / iraq', 'dominican republic', 'samoa', 'hong kong', 'yemen',\n",
       "       'madagascar', 'atlantic ocean', 'france', 'guyana', 'tanzania',\n",
       "       'haiti', 'columbia', 'malaysia', 'singapore',\n",
       "       'british virgin islands', 'ecuador', 'chile', 'micronesia',\n",
       "       'south china sea', 'portugal', 'sri lanka', 'johnston island',\n",
       "       'maldive islands', 'kenya', 'guatemala', 'aruba', 'guinea',\n",
       "       'north pacific ocean', 'kiribati', 'turks & caicos',\n",
       "       'trinidad & tobago', 'tasman sea', 'vietnam', 'caribbean sea',\n",
       "       'sierra leone', 'united arab emirates', 'uruguay', 'argentina',\n",
       "       'new guinea', 'united arab emirates (uae)', 'montenegro',\n",
       "       'the balkans', 'namibia', 'ireland', 'georgia', 'falkland islands',\n",
       "       'java', 'federated states of micronesia', 'okinawa', 'norway',\n",
       "       'diego garcia', 'egypt / israel', 'comoros', 'liberia',\n",
       "       'south pacific ocean', 'north sea', 'mid atlantic ocean',\n",
       "       'british isles', 'puerto rico', 'lebanon', 'netherlands antilles',\n",
       "       'martinique', 'cook islands', 'cayman islands', 'paraguay',\n",
       "       'barbados', 'somalia', 'bangladesh', 'iraq', 'central pacific',\n",
       "       'palestinian territories', 'red sea', 'coast of africa',\n",
       "       'solomon islands / vanuatu', 'azores', 'ghana', 'san domingo',\n",
       "       'northern arabian sea', 'admiralty islands', 'gulf of aden',\n",
       "       'st. maartin', 'grand cayman', 'peru', 'red sea / indian ocean',\n",
       "       'british west indies', 'nevis', 'mayotte',\n",
       "       'southwest pacific ocean', 'andaman / nicobar islandas'],\n",
       "      dtype=object)"
      ]
     },
     "execution_count": 18,
     "metadata": {},
     "output_type": "execute_result"
    }
   ],
   "source": [
    "attacks_month[\"country\"] = attacks_month[\"country\"].str.lower().str.strip()\n",
    "'''Con esto limpiamos los paises ya que había algunos datos escritos de forma diferente'''\n",
    "attacks_month[\"country\"].unique()\n"
   ]
  },
  {
   "cell_type": "code",
   "execution_count": 19,
   "metadata": {
    "scrolled": true
   },
   "outputs": [
    {
     "name": "stdout",
     "output_type": "stream",
     "text": [
      "<class 'pandas.core.frame.DataFrame'>\n",
      "Int64Index: 5198 entries, 2603 to 1323\n",
      "Data columns (total 2 columns):\n",
      " #   Column   Non-Null Count  Dtype \n",
      "---  ------   --------------  ----- \n",
      " 0   month    5198 non-null   object\n",
      " 1   country  5174 non-null   object\n",
      "dtypes: object(2)\n",
      "memory usage: 121.8+ KB\n"
     ]
    },
    {
     "data": {
      "text/plain": [
       "'\\nAhora tenemos attacks_month lista para trabajar nuestra hipótesis y la exportamos\\n'"
      ]
     },
     "execution_count": 19,
     "metadata": {},
     "output_type": "execute_result"
    }
   ],
   "source": [
    "attacks_month.info()\n",
    "'''\n",
    "Ahora tenemos attacks_month lista para trabajar nuestra hipótesis y la exportamos\n",
    "'''"
   ]
  },
  {
   "cell_type": "code",
   "execution_count": 20,
   "metadata": {},
   "outputs": [],
   "source": [
    "attacks_month.to_csv(\"Data/attacks_month.csv\", index=False)"
   ]
  },
  {
   "cell_type": "code",
   "execution_count": 21,
   "metadata": {},
   "outputs": [
    {
     "data": {
      "text/plain": [
       "array(['April', 'August', 'December', 'February', 'January', 'July',\n",
       "       'June', 'March', 'May', 'November', 'October', 'September'],\n",
       "      dtype=object)"
      ]
     },
     "execution_count": 21,
     "metadata": {},
     "output_type": "execute_result"
    }
   ],
   "source": [
    "attacks_month.month.unique()"
   ]
  },
  {
   "cell_type": "code",
   "execution_count": 22,
   "metadata": {},
   "outputs": [
    {
     "data": {
      "text/html": [
       "<div>\n",
       "<style scoped>\n",
       "    .dataframe tbody tr th:only-of-type {\n",
       "        vertical-align: middle;\n",
       "    }\n",
       "\n",
       "    .dataframe tbody tr th {\n",
       "        vertical-align: top;\n",
       "    }\n",
       "\n",
       "    .dataframe thead th {\n",
       "        text-align: right;\n",
       "    }\n",
       "</style>\n",
       "<table border=\"1\" class=\"dataframe\">\n",
       "  <thead>\n",
       "    <tr style=\"text-align: right;\">\n",
       "      <th></th>\n",
       "      <th>year</th>\n",
       "      <th>total</th>\n",
       "    </tr>\n",
       "  </thead>\n",
       "  <tbody>\n",
       "    <tr>\n",
       "      <th>205</th>\n",
       "      <td>1975.0</td>\n",
       "      <td>49</td>\n",
       "    </tr>\n",
       "    <tr>\n",
       "      <th>140</th>\n",
       "      <td>1910.0</td>\n",
       "      <td>14</td>\n",
       "    </tr>\n",
       "    <tr>\n",
       "      <th>210</th>\n",
       "      <td>1980.0</td>\n",
       "      <td>35</td>\n",
       "    </tr>\n",
       "    <tr>\n",
       "      <th>193</th>\n",
       "      <td>1963.0</td>\n",
       "      <td>61</td>\n",
       "    </tr>\n",
       "    <tr>\n",
       "      <th>231</th>\n",
       "      <td>2001.0</td>\n",
       "      <td>92</td>\n",
       "    </tr>\n",
       "  </tbody>\n",
       "</table>\n",
       "</div>"
      ],
      "text/plain": [
       "       year  total\n",
       "205  1975.0     49\n",
       "140  1910.0     14\n",
       "210  1980.0     35\n",
       "193  1963.0     61\n",
       "231  2001.0     92"
      ]
     },
     "execution_count": 22,
     "metadata": {},
     "output_type": "execute_result"
    }
   ],
   "source": [
    "attacks_year =  attacks_2.groupby(['year']).agg({'month':'count'}).reset_index().rename(columns={'month':\"total\"})\n",
    "attacks_year = attacks_year[attacks_year['year'] > 1900]\n",
    "attacks_year.to_csv(\"Data/attacks_year.csv\", index=False)\n",
    "attacks_year.sample(5)"
   ]
  }
 ],
 "metadata": {
  "kernelspec": {
   "display_name": "ironhack",
   "language": "python",
   "name": "ironhack"
  },
  "language_info": {
   "codemirror_mode": {
    "name": "ipython",
    "version": 3
   },
   "file_extension": ".py",
   "mimetype": "text/x-python",
   "name": "python",
   "nbconvert_exporter": "python",
   "pygments_lexer": "ipython3",
   "version": "3.8.5"
  }
 },
 "nbformat": 4,
 "nbformat_minor": 4
}
