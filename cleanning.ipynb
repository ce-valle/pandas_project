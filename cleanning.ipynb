{
 "cells": [
  {
   "cell_type": "code",
   "execution_count": 1,
   "metadata": {},
   "outputs": [],
   "source": [
    "import pandas as pd\n",
    "import numpy as np\n",
    "import seaborn as sns\n",
    "import matplotlib.pyplot as plt\n",
    "import pandas as pd"
   ]
  },
  {
   "cell_type": "code",
   "execution_count": 2,
   "metadata": {},
   "outputs": [],
   "source": [
    "import sys\n",
    "sys.path.append(\"../\")\n",
    "from src.functions import *\n",
    "#importo las funciones de mi archivo de funciones"
   ]
  },
  {
   "cell_type": "code",
   "execution_count": 3,
   "metadata": {},
   "outputs": [],
   "source": [
    "attacks = pd.read_csv(\"attacks.csv\") #hago una copia de la base de datos original para trabajar sobre ella\n",
    "attacks_2 = attacks.copy()\n"
   ]
  },
  {
   "cell_type": "code",
   "execution_count": 4,
   "metadata": {},
   "outputs": [
    {
     "data": {
      "text/plain": [
       "['Case Number',\n",
       " 'Date',\n",
       " 'Year',\n",
       " 'Type',\n",
       " 'Country',\n",
       " 'Area',\n",
       " 'Location',\n",
       " 'Activity',\n",
       " 'Name',\n",
       " 'Sex ',\n",
       " 'Age',\n",
       " 'Injury',\n",
       " 'Fatal (Y/N)',\n",
       " 'Time',\n",
       " 'Species ',\n",
       " 'Investigator or Source',\n",
       " 'pdf',\n",
       " 'href formula',\n",
       " 'href',\n",
       " 'Case Number.1',\n",
       " 'Case Number.2',\n",
       " 'original order',\n",
       " 'Unnamed: 22',\n",
       " 'Unnamed: 23']"
      ]
     },
     "execution_count": 4,
     "metadata": {},
     "output_type": "execute_result"
    }
   ],
   "source": [
    "columnas = list(attacks_2.columns)\n",
    "columnas"
   ]
  },
  {
   "cell_type": "code",
   "execution_count": 5,
   "metadata": {},
   "outputs": [
    {
     "data": {
      "text/plain": [
       "{'Case Number': 'case_number',\n",
       " 'Date': 'date',\n",
       " 'Year': 'year',\n",
       " 'Type': 'type',\n",
       " 'Country': 'country',\n",
       " 'Area': 'area',\n",
       " 'Location': 'location',\n",
       " 'Activity': 'activity',\n",
       " 'Name': 'name',\n",
       " 'Sex ': 'sex_',\n",
       " 'Age': 'age',\n",
       " 'Injury': 'injury',\n",
       " 'Fatal (Y/N)': 'fatal_(y/n)',\n",
       " 'Time': 'time',\n",
       " 'Species ': 'species_',\n",
       " 'Investigator or Source': 'investigator_or_source',\n",
       " 'pdf': 'pdf',\n",
       " 'href formula': 'href_formula',\n",
       " 'href': 'href',\n",
       " 'Case Number.1': 'case_number.1',\n",
       " 'Case Number.2': 'case_number.2',\n",
       " 'original order': 'original_order',\n",
       " 'Unnamed: 22': 'unnamed:_22',\n",
       " 'Unnamed: 23': 'unnamed:_23'}"
      ]
     },
     "execution_count": 5,
     "metadata": {},
     "output_type": "execute_result"
    }
   ],
   "source": [
    "dict_columns = columns_name(columnas)\n",
    "dict_columns"
   ]
  },
  {
   "cell_type": "code",
   "execution_count": 6,
   "metadata": {},
   "outputs": [
    {
     "data": {
      "text/plain": [
       "Index(['case_number', 'date', 'year', 'type', 'country', 'area', 'location',\n",
       "       'activity', 'name', 'sex_', 'age', 'injury', 'fatal_(y/n)', 'time',\n",
       "       'species_', 'investigator_or_source', 'pdf', 'href_formula', 'href',\n",
       "       'case_number.1', 'case_number.2', 'original_order', 'unnamed:_22',\n",
       "       'unnamed:_23'],\n",
       "      dtype='object')"
      ]
     },
     "execution_count": 6,
     "metadata": {},
     "output_type": "execute_result"
    }
   ],
   "source": [
    "attacks_2.rename(columns = dict_columns, inplace=True)\n",
    "attacks_2.columns"
   ]
  },
  {
   "cell_type": "code",
   "execution_count": 7,
   "metadata": {},
   "outputs": [
    {
     "data": {
      "text/plain": [
       "Index(['case_number', 'date', 'year', 'type', 'country', 'area', 'location',\n",
       "       'activity', 'name', 'sex_', 'age', 'injury', 'fatal_(y/n)', 'time',\n",
       "       'species_', 'investigator_or_source', 'original_order'],\n",
       "      dtype='object')"
      ]
     },
     "execution_count": 7,
     "metadata": {},
     "output_type": "execute_result"
    }
   ],
   "source": [
    "attacks_2.drop(columns=[\"unnamed:_22\",\"unnamed:_23\",\"pdf\", \"href_formula\", \"href\", \"case_number.1\", \"case_number.2\"], inplace=True)\n",
    "#elimino las columnas Unnamed 23 y 23 ya que prácticamente todos sus datos son nulos\n",
    "attacks_2.columns"
   ]
  },
  {
   "cell_type": "code",
   "execution_count": 8,
   "metadata": {},
   "outputs": [
    {
     "data": {
      "text/plain": [
       "(25723, 17)"
      ]
     },
     "execution_count": 8,
     "metadata": {},
     "output_type": "execute_result"
    }
   ],
   "source": [
    "attacks_2.shape #inspecciono la forma de la base de datos"
   ]
  },
  {
   "cell_type": "code",
   "execution_count": 9,
   "metadata": {},
   "outputs": [
    {
     "data": {
      "text/plain": [
       "(25723, 17)"
      ]
     },
     "execution_count": 9,
     "metadata": {},
     "output_type": "execute_result"
    }
   ],
   "source": [
    "attacks_2.drop_duplicates() #elimino los duplicados\n",
    "attacks_2.shape \n",
    "#al comprobar la forma al eliminar los duplicados vemos que no hay datos duplicados"
   ]
  },
  {
   "cell_type": "code",
   "execution_count": 10,
   "metadata": {},
   "outputs": [
    {
     "data": {
      "text/plain": [
       "(8703, 17)"
      ]
     },
     "execution_count": 10,
     "metadata": {},
     "output_type": "execute_result"
    }
   ],
   "source": [
    "attacks_2.dropna(how=\"all\", inplace=True)\n",
    "'''Elimino las filas en las que todos sus valores son nulos'''\n",
    "attacks_2.shape"
   ]
  },
  {
   "cell_type": "code",
   "execution_count": 11,
   "metadata": {},
   "outputs": [
    {
     "data": {
      "text/plain": [
       "'Inspecciono el número de NaN por columna'"
      ]
     },
     "execution_count": 11,
     "metadata": {},
     "output_type": "execute_result"
    }
   ],
   "source": [
    "attacks_2.isna().sum()\n",
    "'''Inspecciono el número de NaN por columna'''"
   ]
  },
  {
   "cell_type": "code",
   "execution_count": 12,
   "metadata": {},
   "outputs": [
    {
     "data": {
      "text/html": [
       "<div>\n",
       "<style scoped>\n",
       "    .dataframe tbody tr th:only-of-type {\n",
       "        vertical-align: middle;\n",
       "    }\n",
       "\n",
       "    .dataframe tbody tr th {\n",
       "        vertical-align: top;\n",
       "    }\n",
       "\n",
       "    .dataframe thead th {\n",
       "        text-align: right;\n",
       "    }\n",
       "</style>\n",
       "<table border=\"1\" class=\"dataframe\">\n",
       "  <thead>\n",
       "    <tr style=\"text-align: right;\">\n",
       "      <th></th>\n",
       "      <th>case_number</th>\n",
       "      <th>date</th>\n",
       "      <th>year</th>\n",
       "      <th>type</th>\n",
       "      <th>country</th>\n",
       "      <th>area</th>\n",
       "      <th>location</th>\n",
       "      <th>activity</th>\n",
       "      <th>name</th>\n",
       "      <th>sex_</th>\n",
       "      <th>age</th>\n",
       "      <th>injury</th>\n",
       "      <th>fatal_(y/n)</th>\n",
       "      <th>time</th>\n",
       "      <th>species_</th>\n",
       "      <th>investigator_or_source</th>\n",
       "      <th>original_order</th>\n",
       "      <th>month</th>\n",
       "    </tr>\n",
       "  </thead>\n",
       "  <tbody>\n",
       "    <tr>\n",
       "      <th>2669</th>\n",
       "      <td>1989.08.22.b</td>\n",
       "      <td>22-Aug-1989</td>\n",
       "      <td>1989.0</td>\n",
       "      <td>Unprovoked</td>\n",
       "      <td>USA</td>\n",
       "      <td>Florida</td>\n",
       "      <td>St Augustine, St Johns County</td>\n",
       "      <td>Swimming</td>\n",
       "      <td>Anthony McKnight</td>\n",
       "      <td>M</td>\n",
       "      <td>21</td>\n",
       "      <td>3 wounds on left hand</td>\n",
       "      <td>N</td>\n",
       "      <td>NaN</td>\n",
       "      <td>1.2 m [4'] shark</td>\n",
       "      <td>Orlando Sentinel, 8/24/1989. p.B1</td>\n",
       "      <td>3634.0</td>\n",
       "      <td>Aug</td>\n",
       "    </tr>\n",
       "    <tr>\n",
       "      <th>5544</th>\n",
       "      <td>1901.09.23.R</td>\n",
       "      <td>Reported 23-Sep-1901</td>\n",
       "      <td>1901.0</td>\n",
       "      <td>Unprovoked</td>\n",
       "      <td>CYPRUS</td>\n",
       "      <td>Southern Cyprus</td>\n",
       "      <td>Larnaca</td>\n",
       "      <td>Swimming</td>\n",
       "      <td>male</td>\n",
       "      <td>M</td>\n",
       "      <td>Teen</td>\n",
       "      <td>FATAL, bitten on arms, chest &amp; legs</td>\n",
       "      <td>Y</td>\n",
       "      <td>NaN</td>\n",
       "      <td>2 m shark</td>\n",
       "      <td>Bardanis citing Embros, 9/23/1901</td>\n",
       "      <td>759.0</td>\n",
       "      <td>Rep</td>\n",
       "    </tr>\n",
       "    <tr>\n",
       "      <th>2714</th>\n",
       "      <td>1988.09.28</td>\n",
       "      <td>28-Sep-1988</td>\n",
       "      <td>1988.0</td>\n",
       "      <td>Unprovoked</td>\n",
       "      <td>USA</td>\n",
       "      <td>Florida</td>\n",
       "      <td>New Smyrna Beach, Volusia County</td>\n",
       "      <td>Surfing</td>\n",
       "      <td>Chris Garvin</td>\n",
       "      <td>M</td>\n",
       "      <td>21</td>\n",
       "      <td>Lacerations to foot</td>\n",
       "      <td>N</td>\n",
       "      <td>Afternoon</td>\n",
       "      <td>5' shark</td>\n",
       "      <td>News-Journal, 9/29/1988</td>\n",
       "      <td>3589.0</td>\n",
       "      <td>Sep</td>\n",
       "    </tr>\n",
       "    <tr>\n",
       "      <th>7393</th>\n",
       "      <td>0</td>\n",
       "      <td>NaN</td>\n",
       "      <td>NaN</td>\n",
       "      <td>NaN</td>\n",
       "      <td>NaN</td>\n",
       "      <td>NaN</td>\n",
       "      <td>NaN</td>\n",
       "      <td>NaN</td>\n",
       "      <td>NaN</td>\n",
       "      <td>NaN</td>\n",
       "      <td>NaN</td>\n",
       "      <td>NaN</td>\n",
       "      <td>NaN</td>\n",
       "      <td>NaN</td>\n",
       "      <td>NaN</td>\n",
       "      <td>NaN</td>\n",
       "      <td>NaN</td>\n",
       "      <td>NaN</td>\n",
       "    </tr>\n",
       "    <tr>\n",
       "      <th>4454</th>\n",
       "      <td>1951.00.00</td>\n",
       "      <td>1951</td>\n",
       "      <td>1951.0</td>\n",
       "      <td>Unprovoked</td>\n",
       "      <td>NEW GUINEA</td>\n",
       "      <td>Madang Province</td>\n",
       "      <td>Manam Island</td>\n",
       "      <td>NaN</td>\n",
       "      <td>NaN</td>\n",
       "      <td>NaN</td>\n",
       "      <td>NaN</td>\n",
       "      <td>FATAL</td>\n",
       "      <td>Y</td>\n",
       "      <td>NaN</td>\n",
       "      <td>NaN</td>\n",
       "      <td>A. Bleakley;  A. M. Rapson, p.148</td>\n",
       "      <td>1849.0</td>\n",
       "      <td>NaN</td>\n",
       "    </tr>\n",
       "  </tbody>\n",
       "</table>\n",
       "</div>"
      ],
      "text/plain": [
       "       case_number                  date    year        type     country  \\\n",
       "2669  1989.08.22.b           22-Aug-1989  1989.0  Unprovoked         USA   \n",
       "5544  1901.09.23.R  Reported 23-Sep-1901  1901.0  Unprovoked      CYPRUS   \n",
       "2714    1988.09.28           28-Sep-1988  1988.0  Unprovoked         USA   \n",
       "7393             0                   NaN     NaN         NaN         NaN   \n",
       "4454    1951.00.00                  1951  1951.0  Unprovoked  NEW GUINEA   \n",
       "\n",
       "                 area                          location  activity  \\\n",
       "2669          Florida     St Augustine, St Johns County  Swimming   \n",
       "5544  Southern Cyprus                           Larnaca  Swimming   \n",
       "2714          Florida  New Smyrna Beach, Volusia County   Surfing   \n",
       "7393              NaN                               NaN       NaN   \n",
       "4454  Madang Province                      Manam Island       NaN   \n",
       "\n",
       "                  name sex_   age                               injury  \\\n",
       "2669  Anthony McKnight    M    21                3 wounds on left hand   \n",
       "5544              male    M  Teen  FATAL, bitten on arms, chest & legs   \n",
       "2714      Chris Garvin    M    21                  Lacerations to foot   \n",
       "7393               NaN  NaN   NaN                                  NaN   \n",
       "4454               NaN  NaN   NaN                                FATAL   \n",
       "\n",
       "     fatal_(y/n)       time          species_  \\\n",
       "2669           N        NaN  1.2 m [4'] shark   \n",
       "5544           Y        NaN         2 m shark   \n",
       "2714           N  Afternoon          5' shark   \n",
       "7393         NaN        NaN               NaN   \n",
       "4454           Y        NaN               NaN   \n",
       "\n",
       "                 investigator_or_source  original_order month  \n",
       "2669  Orlando Sentinel, 8/24/1989. p.B1          3634.0   Aug  \n",
       "5544  Bardanis citing Embros, 9/23/1901           759.0   Rep  \n",
       "2714            News-Journal, 9/29/1988          3589.0   Sep  \n",
       "7393                                NaN             NaN   NaN  \n",
       "4454  A. Bleakley;  A. M. Rapson, p.148          1849.0   NaN  "
      ]
     },
     "execution_count": 12,
     "metadata": {},
     "output_type": "execute_result"
    }
   ],
   "source": [
    "attacks_2[\"month\"] = attacks_2[\"date\"].str.extract(r'([A-Z][a-z][\\w+-])')\n",
    "'''Creo una columna nueva con los meses que la extraigo de Date'''\n",
    "attacks_2.sample(5)"
   ]
  },
  {
   "cell_type": "code",
   "execution_count": 13,
   "metadata": {},
   "outputs": [
    {
     "data": {
      "text/plain": [
       "Jul    596\n",
       "Rep    550\n",
       "Aug    542\n",
       "Sep    493\n",
       "Jan    463\n",
       "Jun    441\n",
       "Apr    408\n",
       "Oct    402\n",
       "Dec    391\n",
       "Mar    379\n",
       "Nov    374\n",
       "May    360\n",
       "Feb    349\n",
       "Bef     85\n",
       "Sum     17\n",
       "Lat     14\n",
       "Ear     13\n",
       "Cir      6\n",
       "Bet      6\n",
       "Mid      5\n",
       "Fal      4\n",
       "Som      2\n",
       "Dur      2\n",
       "Ap-      2\n",
       "Wor      2\n",
       "Win      2\n",
       "Las      1\n",
       "Spa      1\n",
       "Ann      1\n",
       "Aft      1\n",
       "Let      1\n",
       "Sai      1\n",
       "Woi      1\n",
       "Name: month, dtype: int64"
      ]
     },
     "execution_count": 13,
     "metadata": {},
     "output_type": "execute_result"
    }
   ],
   "source": [
    "attacks_2.month.value_counts()"
   ]
  },
  {
   "cell_type": "code",
   "execution_count": 14,
   "metadata": {},
   "outputs": [
    {
     "data": {
      "text/html": [
       "<div>\n",
       "<style scoped>\n",
       "    .dataframe tbody tr th:only-of-type {\n",
       "        vertical-align: middle;\n",
       "    }\n",
       "\n",
       "    .dataframe tbody tr th {\n",
       "        vertical-align: top;\n",
       "    }\n",
       "\n",
       "    .dataframe thead th {\n",
       "        text-align: right;\n",
       "    }\n",
       "</style>\n",
       "<table border=\"1\" class=\"dataframe\">\n",
       "  <thead>\n",
       "    <tr style=\"text-align: right;\">\n",
       "      <th></th>\n",
       "      <th>case_number</th>\n",
       "      <th>date</th>\n",
       "      <th>year</th>\n",
       "      <th>type</th>\n",
       "      <th>country</th>\n",
       "      <th>area</th>\n",
       "      <th>location</th>\n",
       "      <th>activity</th>\n",
       "      <th>name</th>\n",
       "      <th>sex_</th>\n",
       "      <th>age</th>\n",
       "      <th>injury</th>\n",
       "      <th>fatal_(y/n)</th>\n",
       "      <th>time</th>\n",
       "      <th>species_</th>\n",
       "      <th>investigator_or_source</th>\n",
       "      <th>original_order</th>\n",
       "      <th>month</th>\n",
       "    </tr>\n",
       "  </thead>\n",
       "  <tbody>\n",
       "    <tr>\n",
       "      <th>4450</th>\n",
       "      <td>1951.02.03</td>\n",
       "      <td>03-Feb-1951</td>\n",
       "      <td>1951.0</td>\n",
       "      <td>Unprovoked</td>\n",
       "      <td>AUSTRALIA</td>\n",
       "      <td>New South Wales</td>\n",
       "      <td>Windang, near the entrance to Lake Illawarra</td>\n",
       "      <td>Spearfishing (but treading water on the surface)</td>\n",
       "      <td>Albert Pride</td>\n",
       "      <td>M</td>\n",
       "      <td>20</td>\n",
       "      <td>Shark's fin caused abrasion on his chest</td>\n",
       "      <td>N</td>\n",
       "      <td>NaN</td>\n",
       "      <td>NaN</td>\n",
       "      <td>G.P. Whitley (1951), p.194 cites Sunday Sun (S...</td>\n",
       "      <td>1853.0</td>\n",
       "      <td>Feb</td>\n",
       "    </tr>\n",
       "    <tr>\n",
       "      <th>6471</th>\n",
       "      <td>0</td>\n",
       "      <td>NaN</td>\n",
       "      <td>NaN</td>\n",
       "      <td>NaN</td>\n",
       "      <td>NaN</td>\n",
       "      <td>NaN</td>\n",
       "      <td>NaN</td>\n",
       "      <td>NaN</td>\n",
       "      <td>NaN</td>\n",
       "      <td>NaN</td>\n",
       "      <td>NaN</td>\n",
       "      <td>NaN</td>\n",
       "      <td>NaN</td>\n",
       "      <td>NaN</td>\n",
       "      <td>NaN</td>\n",
       "      <td>NaN</td>\n",
       "      <td>NaN</td>\n",
       "      <td>unknown</td>\n",
       "    </tr>\n",
       "    <tr>\n",
       "      <th>2658</th>\n",
       "      <td>1989.10.14</td>\n",
       "      <td>14-Oct-1989</td>\n",
       "      <td>1989.0</td>\n",
       "      <td>Invalid</td>\n",
       "      <td>USA</td>\n",
       "      <td>Hawaii</td>\n",
       "      <td>Kahe Point, O'ahu</td>\n",
       "      <td>Scuba diving</td>\n",
       "      <td>Ray Mehl, Jr.</td>\n",
       "      <td>M</td>\n",
       "      <td>NaN</td>\n",
       "      <td>Disappeared 15 minutes into shallow dive. Deca...</td>\n",
       "      <td>NaN</td>\n",
       "      <td>16h30</td>\n",
       "      <td>Shark involvement suspected but not confirmed</td>\n",
       "      <td>Washington Post, 10/17/1989, J. Borg, pp.77-78...</td>\n",
       "      <td>3645.0</td>\n",
       "      <td>Oct</td>\n",
       "    </tr>\n",
       "    <tr>\n",
       "      <th>8029</th>\n",
       "      <td>0</td>\n",
       "      <td>NaN</td>\n",
       "      <td>NaN</td>\n",
       "      <td>NaN</td>\n",
       "      <td>NaN</td>\n",
       "      <td>NaN</td>\n",
       "      <td>NaN</td>\n",
       "      <td>NaN</td>\n",
       "      <td>NaN</td>\n",
       "      <td>NaN</td>\n",
       "      <td>NaN</td>\n",
       "      <td>NaN</td>\n",
       "      <td>NaN</td>\n",
       "      <td>NaN</td>\n",
       "      <td>NaN</td>\n",
       "      <td>NaN</td>\n",
       "      <td>NaN</td>\n",
       "      <td>unknown</td>\n",
       "    </tr>\n",
       "    <tr>\n",
       "      <th>7866</th>\n",
       "      <td>0</td>\n",
       "      <td>NaN</td>\n",
       "      <td>NaN</td>\n",
       "      <td>NaN</td>\n",
       "      <td>NaN</td>\n",
       "      <td>NaN</td>\n",
       "      <td>NaN</td>\n",
       "      <td>NaN</td>\n",
       "      <td>NaN</td>\n",
       "      <td>NaN</td>\n",
       "      <td>NaN</td>\n",
       "      <td>NaN</td>\n",
       "      <td>NaN</td>\n",
       "      <td>NaN</td>\n",
       "      <td>NaN</td>\n",
       "      <td>NaN</td>\n",
       "      <td>NaN</td>\n",
       "      <td>unknown</td>\n",
       "    </tr>\n",
       "  </tbody>\n",
       "</table>\n",
       "</div>"
      ],
      "text/plain": [
       "     case_number         date    year        type    country             area  \\\n",
       "4450  1951.02.03  03-Feb-1951  1951.0  Unprovoked  AUSTRALIA  New South Wales   \n",
       "6471           0          NaN     NaN         NaN        NaN              NaN   \n",
       "2658  1989.10.14  14-Oct-1989  1989.0     Invalid        USA           Hawaii   \n",
       "8029           0          NaN     NaN         NaN        NaN              NaN   \n",
       "7866           0          NaN     NaN         NaN        NaN              NaN   \n",
       "\n",
       "                                          location  \\\n",
       "4450  Windang, near the entrance to Lake Illawarra   \n",
       "6471                                           NaN   \n",
       "2658                             Kahe Point, O'ahu   \n",
       "8029                                           NaN   \n",
       "7866                                           NaN   \n",
       "\n",
       "                                              activity           name sex_  \\\n",
       "4450  Spearfishing (but treading water on the surface)   Albert Pride    M   \n",
       "6471                                               NaN            NaN  NaN   \n",
       "2658                                      Scuba diving  Ray Mehl, Jr.    M   \n",
       "8029                                               NaN            NaN  NaN   \n",
       "7866                                               NaN            NaN  NaN   \n",
       "\n",
       "      age                                             injury fatal_(y/n)  \\\n",
       "4450   20           Shark's fin caused abrasion on his chest           N   \n",
       "6471  NaN                                                NaN         NaN   \n",
       "2658  NaN  Disappeared 15 minutes into shallow dive. Deca...         NaN   \n",
       "8029  NaN                                                NaN         NaN   \n",
       "7866  NaN                                                NaN         NaN   \n",
       "\n",
       "       time                                       species_  \\\n",
       "4450    NaN                                            NaN   \n",
       "6471    NaN                                            NaN   \n",
       "2658  16h30  Shark involvement suspected but not confirmed   \n",
       "8029    NaN                                            NaN   \n",
       "7866    NaN                                            NaN   \n",
       "\n",
       "                                 investigator_or_source  original_order  \\\n",
       "4450  G.P. Whitley (1951), p.194 cites Sunday Sun (S...          1853.0   \n",
       "6471                                                NaN             NaN   \n",
       "2658  Washington Post, 10/17/1989, J. Borg, pp.77-78...          3645.0   \n",
       "8029                                                NaN             NaN   \n",
       "7866                                                NaN             NaN   \n",
       "\n",
       "        month  \n",
       "4450      Feb  \n",
       "6471  unknown  \n",
       "2658      Oct  \n",
       "8029  unknown  \n",
       "7866  unknown  "
      ]
     },
     "execution_count": 14,
     "metadata": {},
     "output_type": "execute_result"
    }
   ],
   "source": [
    "month_lst = [\"Jan\", \"Feb\", \"Mar\", \"May\", \"Apr\", \"Jun\", \"Jul\", \"Ago\", \"Sep\", \"Oct\", \"Nov\", \"Dec\"]\n",
    "attacks_2[\"month\"].fillna(\"unknown\", inplace = True)\n",
    "attacks_2[\"month\"] = attacks_2[\"month\"].apply(cambio)\n",
    "        \n",
    "attacks_2.sample(5)"
   ]
  },
  {
   "cell_type": "code",
   "execution_count": 15,
   "metadata": {},
   "outputs": [
    {
     "data": {
      "text/plain": [
       "unknown    4047\n",
       "Jul         596\n",
       "Sep         493\n",
       "Jan         463\n",
       "Jun         441\n",
       "Apr         408\n",
       "Oct         402\n",
       "Dec         391\n",
       "Mar         379\n",
       "Nov         374\n",
       "May         360\n",
       "Feb         349\n",
       "Name: month, dtype: int64"
      ]
     },
     "execution_count": 15,
     "metadata": {},
     "output_type": "execute_result"
    }
   ],
   "source": [
    "attacks_2.month.value_counts()"
   ]
  },
  {
   "cell_type": "code",
   "execution_count": 16,
   "metadata": {},
   "outputs": [
    {
     "data": {
      "text/html": [
       "<div>\n",
       "<style scoped>\n",
       "    .dataframe tbody tr th:only-of-type {\n",
       "        vertical-align: middle;\n",
       "    }\n",
       "\n",
       "    .dataframe tbody tr th {\n",
       "        vertical-align: top;\n",
       "    }\n",
       "\n",
       "    .dataframe thead th {\n",
       "        text-align: right;\n",
       "    }\n",
       "</style>\n",
       "<table border=\"1\" class=\"dataframe\">\n",
       "  <thead>\n",
       "    <tr style=\"text-align: right;\">\n",
       "      <th></th>\n",
       "      <th>month</th>\n",
       "      <th>country</th>\n",
       "    </tr>\n",
       "  </thead>\n",
       "  <tbody>\n",
       "    <tr>\n",
       "      <th>0</th>\n",
       "      <td>Jun</td>\n",
       "      <td>USA</td>\n",
       "    </tr>\n",
       "    <tr>\n",
       "      <th>1</th>\n",
       "      <td>Jun</td>\n",
       "      <td>USA</td>\n",
       "    </tr>\n",
       "    <tr>\n",
       "      <th>2</th>\n",
       "      <td>Jun</td>\n",
       "      <td>USA</td>\n",
       "    </tr>\n",
       "    <tr>\n",
       "      <th>3</th>\n",
       "      <td>Jun</td>\n",
       "      <td>AUSTRALIA</td>\n",
       "    </tr>\n",
       "    <tr>\n",
       "      <th>4</th>\n",
       "      <td>Jun</td>\n",
       "      <td>MEXICO</td>\n",
       "    </tr>\n",
       "    <tr>\n",
       "      <th>...</th>\n",
       "      <td>...</td>\n",
       "      <td>...</td>\n",
       "    </tr>\n",
       "    <tr>\n",
       "      <th>6151</th>\n",
       "      <td>Jul</td>\n",
       "      <td>USA</td>\n",
       "    </tr>\n",
       "    <tr>\n",
       "      <th>6155</th>\n",
       "      <td>Dec</td>\n",
       "      <td>NaN</td>\n",
       "    </tr>\n",
       "    <tr>\n",
       "      <th>6159</th>\n",
       "      <td>Jun</td>\n",
       "      <td>ITALY</td>\n",
       "    </tr>\n",
       "    <tr>\n",
       "      <th>6160</th>\n",
       "      <td>Mar</td>\n",
       "      <td>BARBADOS</td>\n",
       "    </tr>\n",
       "    <tr>\n",
       "      <th>6289</th>\n",
       "      <td>Jul</td>\n",
       "      <td>SOUTH AFRICA</td>\n",
       "    </tr>\n",
       "  </tbody>\n",
       "</table>\n",
       "<p>4656 rows × 2 columns</p>\n",
       "</div>"
      ],
      "text/plain": [
       "     month       country\n",
       "0      Jun           USA\n",
       "1      Jun           USA\n",
       "2      Jun           USA\n",
       "3      Jun     AUSTRALIA\n",
       "4      Jun        MEXICO\n",
       "...    ...           ...\n",
       "6151   Jul           USA\n",
       "6155   Dec           NaN\n",
       "6159   Jun         ITALY\n",
       "6160   Mar      BARBADOS\n",
       "6289   Jul  SOUTH AFRICA\n",
       "\n",
       "[4656 rows x 2 columns]"
      ]
     },
     "execution_count": 16,
     "metadata": {},
     "output_type": "execute_result"
    }
   ],
   "source": [
    "attacks_month = attacks_2[[\"month\", \"country\"]][(attacks_2[\"month\"]!=\"unknown\")]\n",
    "attacks_month"
   ]
  },
  {
   "cell_type": "code",
   "execution_count": 17,
   "metadata": {},
   "outputs": [
    {
     "data": {
      "text/html": [
       "<div>\n",
       "<style scoped>\n",
       "    .dataframe tbody tr th:only-of-type {\n",
       "        vertical-align: middle;\n",
       "    }\n",
       "\n",
       "    .dataframe tbody tr th {\n",
       "        vertical-align: top;\n",
       "    }\n",
       "\n",
       "    .dataframe thead th {\n",
       "        text-align: right;\n",
       "    }\n",
       "</style>\n",
       "<table border=\"1\" class=\"dataframe\">\n",
       "  <thead>\n",
       "    <tr style=\"text-align: right;\">\n",
       "      <th></th>\n",
       "      <th>month</th>\n",
       "      <th>country</th>\n",
       "    </tr>\n",
       "  </thead>\n",
       "  <tbody>\n",
       "    <tr>\n",
       "      <th>1171</th>\n",
       "      <td>1</td>\n",
       "      <td>AUSTRALIA</td>\n",
       "    </tr>\n",
       "    <tr>\n",
       "      <th>2596</th>\n",
       "      <td>6</td>\n",
       "      <td>USA</td>\n",
       "    </tr>\n",
       "    <tr>\n",
       "      <th>361</th>\n",
       "      <td>9</td>\n",
       "      <td>USA</td>\n",
       "    </tr>\n",
       "    <tr>\n",
       "      <th>1900</th>\n",
       "      <td>9</td>\n",
       "      <td>USA</td>\n",
       "    </tr>\n",
       "    <tr>\n",
       "      <th>1711</th>\n",
       "      <td>12</td>\n",
       "      <td>USA</td>\n",
       "    </tr>\n",
       "  </tbody>\n",
       "</table>\n",
       "</div>"
      ],
      "text/plain": [
       "      month    country\n",
       "1171      1  AUSTRALIA\n",
       "2596      6        USA\n",
       "361       9        USA\n",
       "1900      9        USA\n",
       "1711     12        USA"
      ]
     },
     "execution_count": 17,
     "metadata": {},
     "output_type": "execute_result"
    }
   ],
   "source": [
    "attacks_month[\"month\"] = pd.to_datetime(attacks_month[\"month\"], errors=\"coerce\", format = \"%b\")\n",
    "attacks_month[\"month\"] = pd.DatetimeIndex(attacks_month['month']).month\n",
    "attacks_month = attacks_month.sort_values(by=\"month\")\n",
    "'''Ordeno la base de datos en funcióin de los meses'''\n",
    "attacks_month.sample(5)"
   ]
  },
  {
   "cell_type": "code",
   "execution_count": 19,
   "metadata": {},
   "outputs": [
    {
     "data": {
      "text/plain": [
       "array(['south africa', 'australia', 'papua new guinea', 'argentina',\n",
       "       'costa rica', 'cuba', 'brazil', 'new zealand', 'ecuador',\n",
       "       'vietnam', 'usa', 'mauritius', 'united arab emirates (uae)',\n",
       "       'mozambique', 'atlantic ocean', 'columbia', 'new caledonia',\n",
       "       'indonesia', 'marshall islands', nan, 'new guinea', 'bahamas',\n",
       "       'mexico', 'fiji', 'turkey', 'japan', 'canada',\n",
       "       'south atlantic ocean', 'pacific ocean', 'taiwan', 'kenya',\n",
       "       'reunion', 'chile', 'thailand', 'caribbean sea', 'egypt',\n",
       "       'uruguay', 'venezuela', 'sierra leone', 'united arab emirates',\n",
       "       'tasman sea', 'italy', 'india', 'dominican republic', 'guam',\n",
       "       'england', 'israel', 'sri lanka', 'philippines', 'jamaica',\n",
       "       'malaysia', 'tonga', 'solomon islands', 'malta', 'turks & caicos',\n",
       "       'senegal', 'french polynesia', 'trinidad & tobago', 'nicaragua',\n",
       "       'paraguay', 'cayman islands', 'cook islands', 'bangladesh',\n",
       "       'north pacific ocean', 'martinique', 'spain', 'yemen', 'sudan',\n",
       "       'seychelles', 'panama', 'indian ocean', 'barbados',\n",
       "       'netherlands antilles', 'samoa', 'bermuda', 'somalia',\n",
       "       'saudi arabia', 'st helena, british overseas territory', 'nigeria',\n",
       "       'palau', 'western samoa', 'maldives', 'china', 'tobago', 'greece',\n",
       "       'united kingdom', 'vanuatu', 'grenada', 'iran', 'sudan?',\n",
       "       'honduras', 'cape verde', 'persian gulf', 'red sea',\n",
       "       'central pacific', 'iraq', 'south korea', 'namibia', 'tanzania',\n",
       "       'madagascar', 'france', 'palestinian territories', 'hong kong',\n",
       "       'mid atlantic ocean', 'new britain', 'coast of africa',\n",
       "       'british isles', 'lebanon', 'south pacific ocean', 'north sea',\n",
       "       'montenegro', 'portugal', 'puerto rico', 'singapore',\n",
       "       'the balkans', 'russia', 'federated states of micronesia',\n",
       "       'liberia', 'norway', 'croatia', 'falkland islands', 'georgia',\n",
       "       'comoros', 'java', 'diego garcia', 'ireland', 'egypt / israel',\n",
       "       'okinawa', 'scotland', 'el salvador', 'andaman / nicobar islandas',\n",
       "       'nevis', 'mayotte', 'southwest pacific ocean', 'micronesia',\n",
       "       'british west indies', 'admiralty islands', 'grand cayman',\n",
       "       'st. maartin', 'peru', 'haiti', 'gulf of aden', 'azores',\n",
       "       'north atlantic ocean', 'johnston island',\n",
       "       'red sea / indian ocean', 'solomon islands / vanuatu',\n",
       "       'san domingo', 'ghana', 'northern arabian sea', 'kiribati',\n",
       "       'american samoa', 'south china sea', 'maldive islands', 'guinea',\n",
       "       'british virgin islands', 'guatemala', 'aruba'], dtype=object)"
      ]
     },
     "execution_count": 19,
     "metadata": {},
     "output_type": "execute_result"
    }
   ],
   "source": [
    "attacks_month[\"country\"] = attacks_month[\"country\"].str.lower().str.strip()\n",
    "'''Con esto limpiamos los paises ya que había algunos datos escritos de forma diferente'''\n",
    "attacks_month[\"country\"].unique()\n"
   ]
  },
  {
   "cell_type": "code",
   "execution_count": 21,
   "metadata": {
    "scrolled": true
   },
   "outputs": [
    {
     "name": "stdout",
     "output_type": "stream",
     "text": [
      "<class 'pandas.core.frame.DataFrame'>\n",
      "Int64Index: 4656 entries, 2755 to 2909\n",
      "Data columns (total 2 columns):\n",
      " #   Column   Non-Null Count  Dtype \n",
      "---  ------   --------------  ----- \n",
      " 0   month    4656 non-null   int64 \n",
      " 1   country  4635 non-null   object\n",
      "dtypes: int64(1), object(1)\n",
      "memory usage: 109.1+ KB\n"
     ]
    }
   ],
   "source": [
    "attacks_month.info()\n",
    "'''\n",
    "Ahora tenemos attacks_month lista para trabajar nuestra hipótesis y la exportamos\n",
    "'''"
   ]
  },
  {
   "cell_type": "code",
   "execution_count": 23,
   "metadata": {},
   "outputs": [],
   "source": [
    "attacks_month.to_csv(\"Data/attacks_month.csv\", index=False)"
   ]
  }
 ],
 "metadata": {
  "kernelspec": {
   "display_name": "ironhack",
   "language": "python",
   "name": "ironhack"
  },
  "language_info": {
   "codemirror_mode": {
    "name": "ipython",
    "version": 3
   },
   "file_extension": ".py",
   "mimetype": "text/x-python",
   "name": "python",
   "nbconvert_exporter": "python",
   "pygments_lexer": "ipython3",
   "version": "3.8.5"
  }
 },
 "nbformat": 4,
 "nbformat_minor": 4
}
