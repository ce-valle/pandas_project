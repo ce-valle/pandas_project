{
 "cells": [
  {
   "cell_type": "code",
   "execution_count": 1,
   "metadata": {},
   "outputs": [],
   "source": [
    "import pandas as pd\n",
    "import numpy as np\n",
    "import seaborn as sns\n",
    "import matplotlib.pyplot as plt\n",
    "import pandas as pd"
   ]
  },
  {
   "cell_type": "code",
   "execution_count": 2,
   "metadata": {},
   "outputs": [],
   "source": [
    "import sys\n",
    "sys.path.append(\"../\")\n",
    "from src.functions import *\n",
    "#importo las funciones de mi archivo de funciones"
   ]
  },
  {
   "cell_type": "code",
   "execution_count": 3,
   "metadata": {},
   "outputs": [],
   "source": [
    "attacks = pd.read_csv(\"Data/attacks.csv\") #hago una copia de la base de datos original para trabajar sobre ella\n",
    "attacks_2 = attacks.copy()\n"
   ]
  },
  {
   "cell_type": "code",
   "execution_count": 4,
   "metadata": {},
   "outputs": [
    {
     "data": {
      "text/plain": [
       "['Case Number',\n",
       " 'Date',\n",
       " 'Year',\n",
       " 'Type',\n",
       " 'Country',\n",
       " 'Area',\n",
       " 'Location',\n",
       " 'Activity',\n",
       " 'Name',\n",
       " 'Sex ',\n",
       " 'Age',\n",
       " 'Injury',\n",
       " 'Fatal (Y/N)',\n",
       " 'Time',\n",
       " 'Species ',\n",
       " 'Investigator or Source',\n",
       " 'pdf',\n",
       " 'href formula',\n",
       " 'href',\n",
       " 'Case Number.1',\n",
       " 'Case Number.2',\n",
       " 'original order',\n",
       " 'Unnamed: 22',\n",
       " 'Unnamed: 23']"
      ]
     },
     "execution_count": 4,
     "metadata": {},
     "output_type": "execute_result"
    }
   ],
   "source": [
    "columnas = list(attacks_2.columns)\n",
    "columnas"
   ]
  },
  {
   "cell_type": "code",
   "execution_count": 5,
   "metadata": {},
   "outputs": [
    {
     "data": {
      "text/plain": [
       "{'Case Number': 'case_number',\n",
       " 'Date': 'date',\n",
       " 'Year': 'year',\n",
       " 'Type': 'type',\n",
       " 'Country': 'country',\n",
       " 'Area': 'area',\n",
       " 'Location': 'location',\n",
       " 'Activity': 'activity',\n",
       " 'Name': 'name',\n",
       " 'Sex ': 'sex_',\n",
       " 'Age': 'age',\n",
       " 'Injury': 'injury',\n",
       " 'Fatal (Y/N)': 'fatal_(y/n)',\n",
       " 'Time': 'time',\n",
       " 'Species ': 'species_',\n",
       " 'Investigator or Source': 'investigator_or_source',\n",
       " 'pdf': 'pdf',\n",
       " 'href formula': 'href_formula',\n",
       " 'href': 'href',\n",
       " 'Case Number.1': 'case_number.1',\n",
       " 'Case Number.2': 'case_number.2',\n",
       " 'original order': 'original_order',\n",
       " 'Unnamed: 22': 'unnamed:_22',\n",
       " 'Unnamed: 23': 'unnamed:_23'}"
      ]
     },
     "execution_count": 5,
     "metadata": {},
     "output_type": "execute_result"
    }
   ],
   "source": [
    "dict_columns = columns_name(columnas)\n",
    "dict_columns"
   ]
  },
  {
   "cell_type": "code",
   "execution_count": 6,
   "metadata": {},
   "outputs": [
    {
     "data": {
      "text/plain": [
       "Index(['case_number', 'date', 'year', 'type', 'country', 'area', 'location',\n",
       "       'activity', 'name', 'sex_', 'age', 'injury', 'fatal_(y/n)', 'time',\n",
       "       'species_', 'investigator_or_source', 'pdf', 'href_formula', 'href',\n",
       "       'case_number.1', 'case_number.2', 'original_order', 'unnamed:_22',\n",
       "       'unnamed:_23'],\n",
       "      dtype='object')"
      ]
     },
     "execution_count": 6,
     "metadata": {},
     "output_type": "execute_result"
    }
   ],
   "source": [
    "attacks_2.rename(columns = dict_columns, inplace=True)\n",
    "attacks_2.columns"
   ]
  },
  {
   "cell_type": "code",
   "execution_count": 7,
   "metadata": {},
   "outputs": [
    {
     "data": {
      "text/plain": [
       "Index(['case_number', 'date', 'year', 'type', 'country', 'area', 'location',\n",
       "       'activity', 'name', 'sex_', 'age', 'injury', 'fatal_(y/n)', 'time',\n",
       "       'species_', 'investigator_or_source', 'original_order'],\n",
       "      dtype='object')"
      ]
     },
     "execution_count": 7,
     "metadata": {},
     "output_type": "execute_result"
    }
   ],
   "source": [
    "attacks_2.drop(columns=[\"unnamed:_22\",\"unnamed:_23\",\"pdf\", \"href_formula\", \"href\", \"case_number.1\", \"case_number.2\"], inplace=True)\n",
    "#elimino las columnas Unnamed 23 y 23 ya que prácticamente todos sus datos son nulos\n",
    "attacks_2.columns"
   ]
  },
  {
   "cell_type": "code",
   "execution_count": 8,
   "metadata": {},
   "outputs": [
    {
     "data": {
      "text/plain": [
       "(25723, 17)"
      ]
     },
     "execution_count": 8,
     "metadata": {},
     "output_type": "execute_result"
    }
   ],
   "source": [
    "attacks_2.shape #inspecciono la forma de la base de datos"
   ]
  },
  {
   "cell_type": "code",
   "execution_count": 9,
   "metadata": {},
   "outputs": [
    {
     "data": {
      "text/plain": [
       "(25723, 17)"
      ]
     },
     "execution_count": 9,
     "metadata": {},
     "output_type": "execute_result"
    }
   ],
   "source": [
    "attacks_2.drop_duplicates() #elimino los duplicados\n",
    "attacks_2.shape \n",
    "#al comprobar la forma al eliminar los duplicados vemos que no hay datos duplicados"
   ]
  },
  {
   "cell_type": "code",
   "execution_count": 10,
   "metadata": {},
   "outputs": [
    {
     "data": {
      "text/plain": [
       "(8703, 17)"
      ]
     },
     "execution_count": 10,
     "metadata": {},
     "output_type": "execute_result"
    }
   ],
   "source": [
    "attacks_2.dropna(how=\"all\", inplace=True)\n",
    "'''Elimino las filas en las que todos sus valores son nulos'''\n",
    "attacks_2.shape"
   ]
  },
  {
   "cell_type": "code",
   "execution_count": 11,
   "metadata": {},
   "outputs": [
    {
     "data": {
      "text/plain": [
       "'Inspecciono el número de NaN por columna'"
      ]
     },
     "execution_count": 11,
     "metadata": {},
     "output_type": "execute_result"
    }
   ],
   "source": [
    "attacks_2.isna().sum()\n",
    "'''Inspecciono el número de NaN por columna'''"
   ]
  },
  {
   "cell_type": "code",
   "execution_count": 12,
   "metadata": {},
   "outputs": [
    {
     "data": {
      "text/html": [
       "<div>\n",
       "<style scoped>\n",
       "    .dataframe tbody tr th:only-of-type {\n",
       "        vertical-align: middle;\n",
       "    }\n",
       "\n",
       "    .dataframe tbody tr th {\n",
       "        vertical-align: top;\n",
       "    }\n",
       "\n",
       "    .dataframe thead th {\n",
       "        text-align: right;\n",
       "    }\n",
       "</style>\n",
       "<table border=\"1\" class=\"dataframe\">\n",
       "  <thead>\n",
       "    <tr style=\"text-align: right;\">\n",
       "      <th></th>\n",
       "      <th>case_number</th>\n",
       "      <th>date</th>\n",
       "      <th>year</th>\n",
       "      <th>type</th>\n",
       "      <th>country</th>\n",
       "      <th>area</th>\n",
       "      <th>location</th>\n",
       "      <th>activity</th>\n",
       "      <th>name</th>\n",
       "      <th>sex_</th>\n",
       "      <th>age</th>\n",
       "      <th>injury</th>\n",
       "      <th>fatal_(y/n)</th>\n",
       "      <th>time</th>\n",
       "      <th>species_</th>\n",
       "      <th>investigator_or_source</th>\n",
       "      <th>original_order</th>\n",
       "      <th>month</th>\n",
       "    </tr>\n",
       "  </thead>\n",
       "  <tbody>\n",
       "    <tr>\n",
       "      <th>4217</th>\n",
       "      <td>1957.00.00.e</td>\n",
       "      <td>1957</td>\n",
       "      <td>1957.0</td>\n",
       "      <td>Unprovoked</td>\n",
       "      <td>FIJI</td>\n",
       "      <td>Kadavu</td>\n",
       "      <td>Great Astrolabe Reef</td>\n",
       "      <td>Fishing</td>\n",
       "      <td>Semesa Vasu</td>\n",
       "      <td>M</td>\n",
       "      <td>30</td>\n",
       "      <td>Right foot lacerated</td>\n",
       "      <td>N</td>\n",
       "      <td>NaN</td>\n",
       "      <td>NaN</td>\n",
       "      <td>S.B. Brown</td>\n",
       "      <td>2086.0</td>\n",
       "      <td>NaN</td>\n",
       "    </tr>\n",
       "    <tr>\n",
       "      <th>2872</th>\n",
       "      <td>1984.11.04</td>\n",
       "      <td>04-Nov-1984</td>\n",
       "      <td>1984.0</td>\n",
       "      <td>Provoked</td>\n",
       "      <td>USA</td>\n",
       "      <td>Florida</td>\n",
       "      <td>Fowey Rock, Key Biscayne</td>\n",
       "      <td>Spearfishing</td>\n",
       "      <td>Andres Ferro</td>\n",
       "      <td>M</td>\n",
       "      <td>29</td>\n",
       "      <td>Speared shark bit diver's right knee, and lace...</td>\n",
       "      <td>N</td>\n",
       "      <td>NaN</td>\n",
       "      <td>\"a small shark\"</td>\n",
       "      <td>Miami Herald, 11/5/1984</td>\n",
       "      <td>3431.0</td>\n",
       "      <td>Nov</td>\n",
       "    </tr>\n",
       "    <tr>\n",
       "      <th>7111</th>\n",
       "      <td>0</td>\n",
       "      <td>NaN</td>\n",
       "      <td>NaN</td>\n",
       "      <td>NaN</td>\n",
       "      <td>NaN</td>\n",
       "      <td>NaN</td>\n",
       "      <td>NaN</td>\n",
       "      <td>NaN</td>\n",
       "      <td>NaN</td>\n",
       "      <td>NaN</td>\n",
       "      <td>NaN</td>\n",
       "      <td>NaN</td>\n",
       "      <td>NaN</td>\n",
       "      <td>NaN</td>\n",
       "      <td>NaN</td>\n",
       "      <td>NaN</td>\n",
       "      <td>NaN</td>\n",
       "      <td>NaN</td>\n",
       "    </tr>\n",
       "    <tr>\n",
       "      <th>600</th>\n",
       "      <td>2013.11.22</td>\n",
       "      <td>22-Nov-2013</td>\n",
       "      <td>2013.0</td>\n",
       "      <td>Unprovoked</td>\n",
       "      <td>USA</td>\n",
       "      <td>Oregon</td>\n",
       "      <td>Gleneden Beach, Lincoln County</td>\n",
       "      <td>Surfing</td>\n",
       "      <td>Andrew Gardiner</td>\n",
       "      <td>M</td>\n",
       "      <td>25</td>\n",
       "      <td>No injury, board bitten</td>\n",
       "      <td>N</td>\n",
       "      <td>10h30</td>\n",
       "      <td>White shark, 10 '</td>\n",
       "      <td>R. Collier</td>\n",
       "      <td>5703.0</td>\n",
       "      <td>Nov</td>\n",
       "    </tr>\n",
       "    <tr>\n",
       "      <th>6505</th>\n",
       "      <td>0</td>\n",
       "      <td>NaN</td>\n",
       "      <td>NaN</td>\n",
       "      <td>NaN</td>\n",
       "      <td>NaN</td>\n",
       "      <td>NaN</td>\n",
       "      <td>NaN</td>\n",
       "      <td>NaN</td>\n",
       "      <td>NaN</td>\n",
       "      <td>NaN</td>\n",
       "      <td>NaN</td>\n",
       "      <td>NaN</td>\n",
       "      <td>NaN</td>\n",
       "      <td>NaN</td>\n",
       "      <td>NaN</td>\n",
       "      <td>NaN</td>\n",
       "      <td>NaN</td>\n",
       "      <td>NaN</td>\n",
       "    </tr>\n",
       "  </tbody>\n",
       "</table>\n",
       "</div>"
      ],
      "text/plain": [
       "       case_number         date    year        type country     area  \\\n",
       "4217  1957.00.00.e         1957  1957.0  Unprovoked    FIJI   Kadavu   \n",
       "2872    1984.11.04  04-Nov-1984  1984.0    Provoked     USA  Florida   \n",
       "7111             0          NaN     NaN         NaN     NaN      NaN   \n",
       "600     2013.11.22  22-Nov-2013  2013.0  Unprovoked     USA   Oregon   \n",
       "6505             0          NaN     NaN         NaN     NaN      NaN   \n",
       "\n",
       "                            location      activity             name sex_  age  \\\n",
       "4217            Great Astrolabe Reef       Fishing      Semesa Vasu    M   30   \n",
       "2872        Fowey Rock, Key Biscayne  Spearfishing     Andres Ferro    M   29   \n",
       "7111                             NaN           NaN              NaN  NaN  NaN   \n",
       "600   Gleneden Beach, Lincoln County       Surfing  Andrew Gardiner    M   25   \n",
       "6505                             NaN           NaN              NaN  NaN  NaN   \n",
       "\n",
       "                                                 injury fatal_(y/n)   time  \\\n",
       "4217                               Right foot lacerated           N    NaN   \n",
       "2872  Speared shark bit diver's right knee, and lace...           N    NaN   \n",
       "7111                                                NaN         NaN    NaN   \n",
       "600                             No injury, board bitten           N  10h30   \n",
       "6505                                                NaN         NaN    NaN   \n",
       "\n",
       "               species_   investigator_or_source  original_order month  \n",
       "4217                NaN               S.B. Brown          2086.0   NaN  \n",
       "2872    \"a small shark\"  Miami Herald, 11/5/1984          3431.0   Nov  \n",
       "7111                NaN                      NaN             NaN   NaN  \n",
       "600   White shark, 10 '               R. Collier          5703.0   Nov  \n",
       "6505                NaN                      NaN             NaN   NaN  "
      ]
     },
     "execution_count": 12,
     "metadata": {},
     "output_type": "execute_result"
    }
   ],
   "source": [
    "attacks_2[\"month\"] = attacks_2[\"date\"].str.extract(r'([A-Z][a-z][\\w+-])')\n",
    "'''Creo una columna nueva con los meses que la extraigo de Date'''\n",
    "attacks_2.sample(5)"
   ]
  },
  {
   "cell_type": "code",
   "execution_count": 13,
   "metadata": {},
   "outputs": [
    {
     "data": {
      "text/plain": [
       "Jul    596\n",
       "Rep    550\n",
       "Aug    542\n",
       "Sep    493\n",
       "Jan    463\n",
       "Jun    441\n",
       "Apr    408\n",
       "Oct    402\n",
       "Dec    391\n",
       "Mar    379\n",
       "Nov    374\n",
       "May    360\n",
       "Feb    349\n",
       "Bef     85\n",
       "Sum     17\n",
       "Lat     14\n",
       "Ear     13\n",
       "Cir      6\n",
       "Bet      6\n",
       "Mid      5\n",
       "Fal      4\n",
       "Som      2\n",
       "Win      2\n",
       "Dur      2\n",
       "Ap-      2\n",
       "Wor      2\n",
       "Spa      1\n",
       "Aft      1\n",
       "Las      1\n",
       "Woi      1\n",
       "Ann      1\n",
       "Sai      1\n",
       "Let      1\n",
       "Name: month, dtype: int64"
      ]
     },
     "execution_count": 13,
     "metadata": {},
     "output_type": "execute_result"
    }
   ],
   "source": [
    "attacks_2.month.value_counts()"
   ]
  },
  {
   "cell_type": "code",
   "execution_count": 14,
   "metadata": {},
   "outputs": [
    {
     "data": {
      "text/html": [
       "<div>\n",
       "<style scoped>\n",
       "    .dataframe tbody tr th:only-of-type {\n",
       "        vertical-align: middle;\n",
       "    }\n",
       "\n",
       "    .dataframe tbody tr th {\n",
       "        vertical-align: top;\n",
       "    }\n",
       "\n",
       "    .dataframe thead th {\n",
       "        text-align: right;\n",
       "    }\n",
       "</style>\n",
       "<table border=\"1\" class=\"dataframe\">\n",
       "  <thead>\n",
       "    <tr style=\"text-align: right;\">\n",
       "      <th></th>\n",
       "      <th>case_number</th>\n",
       "      <th>date</th>\n",
       "      <th>year</th>\n",
       "      <th>type</th>\n",
       "      <th>country</th>\n",
       "      <th>area</th>\n",
       "      <th>location</th>\n",
       "      <th>activity</th>\n",
       "      <th>name</th>\n",
       "      <th>sex_</th>\n",
       "      <th>age</th>\n",
       "      <th>injury</th>\n",
       "      <th>fatal_(y/n)</th>\n",
       "      <th>time</th>\n",
       "      <th>species_</th>\n",
       "      <th>investigator_or_source</th>\n",
       "      <th>original_order</th>\n",
       "      <th>month</th>\n",
       "    </tr>\n",
       "  </thead>\n",
       "  <tbody>\n",
       "    <tr>\n",
       "      <th>5896</th>\n",
       "      <td>1872.10.22</td>\n",
       "      <td>10-Oct-1872</td>\n",
       "      <td>1872.0</td>\n",
       "      <td>Sea Disaster</td>\n",
       "      <td>BAHAMAS</td>\n",
       "      <td>Abaco Islands</td>\n",
       "      <td>NaN</td>\n",
       "      <td>Burning of the S.S. Missouri</td>\n",
       "      <td>males</td>\n",
       "      <td>M</td>\n",
       "      <td>NaN</td>\n",
       "      <td>FATAL</td>\n",
       "      <td>Y</td>\n",
       "      <td>NaN</td>\n",
       "      <td>NaN</td>\n",
       "      <td>Chicago Tribune, 12/2/1872</td>\n",
       "      <td>407.0</td>\n",
       "      <td>Oct</td>\n",
       "    </tr>\n",
       "    <tr>\n",
       "      <th>7888</th>\n",
       "      <td>0</td>\n",
       "      <td>NaN</td>\n",
       "      <td>NaN</td>\n",
       "      <td>NaN</td>\n",
       "      <td>NaN</td>\n",
       "      <td>NaN</td>\n",
       "      <td>NaN</td>\n",
       "      <td>NaN</td>\n",
       "      <td>NaN</td>\n",
       "      <td>NaN</td>\n",
       "      <td>NaN</td>\n",
       "      <td>NaN</td>\n",
       "      <td>NaN</td>\n",
       "      <td>NaN</td>\n",
       "      <td>NaN</td>\n",
       "      <td>NaN</td>\n",
       "      <td>NaN</td>\n",
       "      <td>unknown</td>\n",
       "    </tr>\n",
       "    <tr>\n",
       "      <th>7432</th>\n",
       "      <td>0</td>\n",
       "      <td>NaN</td>\n",
       "      <td>NaN</td>\n",
       "      <td>NaN</td>\n",
       "      <td>NaN</td>\n",
       "      <td>NaN</td>\n",
       "      <td>NaN</td>\n",
       "      <td>NaN</td>\n",
       "      <td>NaN</td>\n",
       "      <td>NaN</td>\n",
       "      <td>NaN</td>\n",
       "      <td>NaN</td>\n",
       "      <td>NaN</td>\n",
       "      <td>NaN</td>\n",
       "      <td>NaN</td>\n",
       "      <td>NaN</td>\n",
       "      <td>NaN</td>\n",
       "      <td>unknown</td>\n",
       "    </tr>\n",
       "    <tr>\n",
       "      <th>3380</th>\n",
       "      <td>1970.10.00</td>\n",
       "      <td>Oct-1970</td>\n",
       "      <td>1970.0</td>\n",
       "      <td>Unprovoked</td>\n",
       "      <td>USA</td>\n",
       "      <td>Florida</td>\n",
       "      <td>Matanzas Inlet, St Johns County</td>\n",
       "      <td>Surfing</td>\n",
       "      <td>Robbie Baker</td>\n",
       "      <td>M</td>\n",
       "      <td>NaN</td>\n",
       "      <td>Bitten on right leg above the ankle</td>\n",
       "      <td>N</td>\n",
       "      <td>NaN</td>\n",
       "      <td>NaN</td>\n",
       "      <td>H. Wessel, Orlando Sentinel, 8/1/2001</td>\n",
       "      <td>2923.0</td>\n",
       "      <td>Oct</td>\n",
       "    </tr>\n",
       "    <tr>\n",
       "      <th>2629</th>\n",
       "      <td>1990.07.22</td>\n",
       "      <td>22-Jul-1990</td>\n",
       "      <td>1990.0</td>\n",
       "      <td>Unprovoked</td>\n",
       "      <td>USA</td>\n",
       "      <td>Texas</td>\n",
       "      <td>Mustang Island State Park, Nueces County</td>\n",
       "      <td>Wading</td>\n",
       "      <td>Barbara Green</td>\n",
       "      <td>F</td>\n",
       "      <td>53</td>\n",
       "      <td>10-inch laceration to right foot</td>\n",
       "      <td>N</td>\n",
       "      <td>Evening</td>\n",
       "      <td>NaN</td>\n",
       "      <td>Paris News, 7/23/1990</td>\n",
       "      <td>3674.0</td>\n",
       "      <td>Jul</td>\n",
       "    </tr>\n",
       "  </tbody>\n",
       "</table>\n",
       "</div>"
      ],
      "text/plain": [
       "     case_number         date    year          type  country           area  \\\n",
       "5896  1872.10.22  10-Oct-1872  1872.0  Sea Disaster  BAHAMAS  Abaco Islands   \n",
       "7888           0          NaN     NaN           NaN      NaN            NaN   \n",
       "7432           0          NaN     NaN           NaN      NaN            NaN   \n",
       "3380  1970.10.00     Oct-1970  1970.0    Unprovoked      USA        Florida   \n",
       "2629  1990.07.22  22-Jul-1990  1990.0    Unprovoked      USA          Texas   \n",
       "\n",
       "                                      location                      activity  \\\n",
       "5896                                       NaN  Burning of the S.S. Missouri   \n",
       "7888                                       NaN                           NaN   \n",
       "7432                                       NaN                           NaN   \n",
       "3380           Matanzas Inlet, St Johns County                       Surfing   \n",
       "2629  Mustang Island State Park, Nueces County                        Wading   \n",
       "\n",
       "               name sex_  age                               injury  \\\n",
       "5896          males    M  NaN                                FATAL   \n",
       "7888            NaN  NaN  NaN                                  NaN   \n",
       "7432            NaN  NaN  NaN                                  NaN   \n",
       "3380   Robbie Baker    M  NaN  Bitten on right leg above the ankle   \n",
       "2629  Barbara Green    F   53     10-inch laceration to right foot   \n",
       "\n",
       "     fatal_(y/n)     time species_                  investigator_or_source  \\\n",
       "5896           Y      NaN      NaN              Chicago Tribune, 12/2/1872   \n",
       "7888         NaN      NaN      NaN                                     NaN   \n",
       "7432         NaN      NaN      NaN                                     NaN   \n",
       "3380           N      NaN      NaN  H. Wessel, Orlando Sentinel, 8/1/2001    \n",
       "2629           N  Evening      NaN                   Paris News, 7/23/1990   \n",
       "\n",
       "      original_order    month  \n",
       "5896           407.0      Oct  \n",
       "7888             NaN  unknown  \n",
       "7432             NaN  unknown  \n",
       "3380          2923.0      Oct  \n",
       "2629          3674.0      Jul  "
      ]
     },
     "execution_count": 14,
     "metadata": {},
     "output_type": "execute_result"
    }
   ],
   "source": [
    "month_lst = [\"Jan\", \"Feb\", \"Mar\", \"May\", \"Apr\", \"Jun\", \"Jul\", \"Aug\", \"Sep\", \"Oct\", \"Nov\", \"Dec\"]\n",
    "attacks_2[\"month\"].fillna(\"unknown\", inplace = True)\n",
    "attacks_2[\"month\"] = attacks_2[\"month\"].apply(cambio)\n",
    "        \n",
    "attacks_2.sample(5)"
   ]
  },
  {
   "cell_type": "code",
   "execution_count": 15,
   "metadata": {},
   "outputs": [
    {
     "data": {
      "text/plain": [
       "unknown    3505\n",
       "Jul         596\n",
       "Aug         542\n",
       "Sep         493\n",
       "Jan         463\n",
       "Jun         441\n",
       "Apr         408\n",
       "Oct         402\n",
       "Dec         391\n",
       "Mar         379\n",
       "Nov         374\n",
       "May         360\n",
       "Feb         349\n",
       "Name: month, dtype: int64"
      ]
     },
     "execution_count": 15,
     "metadata": {},
     "output_type": "execute_result"
    }
   ],
   "source": [
    "attacks_2.month.value_counts()"
   ]
  },
  {
   "cell_type": "code",
   "execution_count": 16,
   "metadata": {},
   "outputs": [
    {
     "data": {
      "text/html": [
       "<div>\n",
       "<style scoped>\n",
       "    .dataframe tbody tr th:only-of-type {\n",
       "        vertical-align: middle;\n",
       "    }\n",
       "\n",
       "    .dataframe tbody tr th {\n",
       "        vertical-align: top;\n",
       "    }\n",
       "\n",
       "    .dataframe thead th {\n",
       "        text-align: right;\n",
       "    }\n",
       "</style>\n",
       "<table border=\"1\" class=\"dataframe\">\n",
       "  <thead>\n",
       "    <tr style=\"text-align: right;\">\n",
       "      <th></th>\n",
       "      <th>month</th>\n",
       "      <th>country</th>\n",
       "    </tr>\n",
       "  </thead>\n",
       "  <tbody>\n",
       "    <tr>\n",
       "      <th>0</th>\n",
       "      <td>Jun</td>\n",
       "      <td>USA</td>\n",
       "    </tr>\n",
       "    <tr>\n",
       "      <th>1</th>\n",
       "      <td>Jun</td>\n",
       "      <td>USA</td>\n",
       "    </tr>\n",
       "    <tr>\n",
       "      <th>2</th>\n",
       "      <td>Jun</td>\n",
       "      <td>USA</td>\n",
       "    </tr>\n",
       "    <tr>\n",
       "      <th>3</th>\n",
       "      <td>Jun</td>\n",
       "      <td>AUSTRALIA</td>\n",
       "    </tr>\n",
       "    <tr>\n",
       "      <th>4</th>\n",
       "      <td>Jun</td>\n",
       "      <td>MEXICO</td>\n",
       "    </tr>\n",
       "    <tr>\n",
       "      <th>...</th>\n",
       "      <td>...</td>\n",
       "      <td>...</td>\n",
       "    </tr>\n",
       "    <tr>\n",
       "      <th>6151</th>\n",
       "      <td>Jul</td>\n",
       "      <td>USA</td>\n",
       "    </tr>\n",
       "    <tr>\n",
       "      <th>6155</th>\n",
       "      <td>Dec</td>\n",
       "      <td>NaN</td>\n",
       "    </tr>\n",
       "    <tr>\n",
       "      <th>6159</th>\n",
       "      <td>Jun</td>\n",
       "      <td>ITALY</td>\n",
       "    </tr>\n",
       "    <tr>\n",
       "      <th>6160</th>\n",
       "      <td>Mar</td>\n",
       "      <td>BARBADOS</td>\n",
       "    </tr>\n",
       "    <tr>\n",
       "      <th>6289</th>\n",
       "      <td>Jul</td>\n",
       "      <td>SOUTH AFRICA</td>\n",
       "    </tr>\n",
       "  </tbody>\n",
       "</table>\n",
       "<p>5198 rows × 2 columns</p>\n",
       "</div>"
      ],
      "text/plain": [
       "     month       country\n",
       "0      Jun           USA\n",
       "1      Jun           USA\n",
       "2      Jun           USA\n",
       "3      Jun     AUSTRALIA\n",
       "4      Jun        MEXICO\n",
       "...    ...           ...\n",
       "6151   Jul           USA\n",
       "6155   Dec           NaN\n",
       "6159   Jun         ITALY\n",
       "6160   Mar      BARBADOS\n",
       "6289   Jul  SOUTH AFRICA\n",
       "\n",
       "[5198 rows x 2 columns]"
      ]
     },
     "execution_count": 16,
     "metadata": {},
     "output_type": "execute_result"
    }
   ],
   "source": [
    "attacks_month = attacks_2[[\"month\", \"country\"]][(attacks_2[\"month\"]!=\"unknown\")]\n",
    "attacks_month"
   ]
  },
  {
   "cell_type": "code",
   "execution_count": 17,
   "metadata": {},
   "outputs": [
    {
     "data": {
      "text/html": [
       "<div>\n",
       "<style scoped>\n",
       "    .dataframe tbody tr th:only-of-type {\n",
       "        vertical-align: middle;\n",
       "    }\n",
       "\n",
       "    .dataframe tbody tr th {\n",
       "        vertical-align: top;\n",
       "    }\n",
       "\n",
       "    .dataframe thead th {\n",
       "        text-align: right;\n",
       "    }\n",
       "</style>\n",
       "<table border=\"1\" class=\"dataframe\">\n",
       "  <thead>\n",
       "    <tr style=\"text-align: right;\">\n",
       "      <th></th>\n",
       "      <th>month</th>\n",
       "      <th>country</th>\n",
       "    </tr>\n",
       "  </thead>\n",
       "  <tbody>\n",
       "    <tr>\n",
       "      <th>3187</th>\n",
       "      <td>March</td>\n",
       "      <td>USA</td>\n",
       "    </tr>\n",
       "    <tr>\n",
       "      <th>410</th>\n",
       "      <td>June</td>\n",
       "      <td>PUERTO RICO</td>\n",
       "    </tr>\n",
       "    <tr>\n",
       "      <th>2054</th>\n",
       "      <td>May</td>\n",
       "      <td>NEW CALEDONIA</td>\n",
       "    </tr>\n",
       "    <tr>\n",
       "      <th>4941</th>\n",
       "      <td>April</td>\n",
       "      <td>AUSTRALIA</td>\n",
       "    </tr>\n",
       "    <tr>\n",
       "      <th>3851</th>\n",
       "      <td>January</td>\n",
       "      <td>NEW ZEALAND</td>\n",
       "    </tr>\n",
       "  </tbody>\n",
       "</table>\n",
       "</div>"
      ],
      "text/plain": [
       "        month        country\n",
       "3187    March            USA\n",
       "410      June    PUERTO RICO\n",
       "2054      May  NEW CALEDONIA\n",
       "4941    April      AUSTRALIA\n",
       "3851  January    NEW ZEALAND"
      ]
     },
     "execution_count": 17,
     "metadata": {},
     "output_type": "execute_result"
    }
   ],
   "source": [
    "attacks_month[\"month\"] = pd.to_datetime(attacks_month[\"month\"], errors=\"coerce\", format = \"%b\")\n",
    "attacks_month[\"month\"] = pd.DatetimeIndex(attacks_month['month']).month_name()\n",
    "attacks_month = attacks_month.sort_values(by=\"month\")\n",
    "'''Ordeno la base de datos en funcióin de los meses'''\n",
    "attacks_month.sample(5)"
   ]
  },
  {
   "cell_type": "code",
   "execution_count": 18,
   "metadata": {},
   "outputs": [
    {
     "data": {
      "text/plain": [
       "array(['usa', 'mauritius', 'reunion', 'australia', 'pacific ocean',\n",
       "       'south africa', 'mozambique', 'marshall islands', 'new zealand',\n",
       "       'indonesia', 'nicaragua', 'italy', 'honduras', 'fiji', 'mexico',\n",
       "       'persian gulf', 'brazil', 'cape verde', 'new caledonia',\n",
       "       'french polynesia', 'sudan', 'philippines', 'jamaica', 'venezuela',\n",
       "       'solomon islands', nan, 'grenada', 'united kingdom', 'guam',\n",
       "       'palau', 'south atlantic ocean', 'western samoa', 'indian ocean',\n",
       "       'panama', 'tonga', 'papua new guinea', 'china', 'bahamas',\n",
       "       'st helena, british overseas territory', 'cuba', 'maldives',\n",
       "       'costa rica', 'india', 'nigeria', 'thailand', 'tobago', 'greece',\n",
       "       'taiwan', 'sudan?', 'vanuatu', 'japan', 'egypt', 'iran', 'bermuda',\n",
       "       'spain', 'senegal', 'malta', 'england', 'saudi arabia',\n",
       "       'el salvador', 'belize', 'south korea', 'croatia', 'new britain',\n",
       "       'iceland', 'scotland', 'canada', 'turkey', 'russia', 'israel',\n",
       "       'seychelles', 'north atlantic ocean', 'american samoa',\n",
       "       'iran / iraq', 'dominican republic', 'samoa', 'hong kong', 'yemen',\n",
       "       'madagascar', 'atlantic ocean', 'france', 'guyana', 'tanzania',\n",
       "       'haiti', 'columbia', 'malaysia', 'singapore',\n",
       "       'british virgin islands', 'ecuador', 'chile', 'micronesia',\n",
       "       'south china sea', 'portugal', 'sri lanka', 'johnston island',\n",
       "       'maldive islands', 'kenya', 'guatemala', 'aruba', 'guinea',\n",
       "       'north pacific ocean', 'kiribati', 'turks & caicos',\n",
       "       'trinidad & tobago', 'tasman sea', 'vietnam', 'caribbean sea',\n",
       "       'sierra leone', 'united arab emirates', 'uruguay', 'argentina',\n",
       "       'new guinea', 'united arab emirates (uae)', 'montenegro',\n",
       "       'the balkans', 'namibia', 'ireland', 'georgia', 'falkland islands',\n",
       "       'java', 'federated states of micronesia', 'okinawa', 'norway',\n",
       "       'diego garcia', 'egypt / israel', 'comoros', 'liberia',\n",
       "       'south pacific ocean', 'north sea', 'mid atlantic ocean',\n",
       "       'british isles', 'puerto rico', 'lebanon', 'netherlands antilles',\n",
       "       'martinique', 'cook islands', 'cayman islands', 'paraguay',\n",
       "       'barbados', 'somalia', 'bangladesh', 'iraq', 'central pacific',\n",
       "       'palestinian territories', 'red sea', 'coast of africa',\n",
       "       'solomon islands / vanuatu', 'azores', 'ghana', 'san domingo',\n",
       "       'northern arabian sea', 'admiralty islands', 'gulf of aden',\n",
       "       'st. maartin', 'grand cayman', 'peru', 'red sea / indian ocean',\n",
       "       'british west indies', 'nevis', 'mayotte',\n",
       "       'southwest pacific ocean', 'andaman / nicobar islandas'],\n",
       "      dtype=object)"
      ]
     },
     "execution_count": 18,
     "metadata": {},
     "output_type": "execute_result"
    }
   ],
   "source": [
    "attacks_month[\"country\"] = attacks_month[\"country\"].str.lower().str.strip()\n",
    "'''Con esto limpiamos los paises ya que había algunos datos escritos de forma diferente'''\n",
    "attacks_month[\"country\"].unique()\n"
   ]
  },
  {
   "cell_type": "code",
   "execution_count": 19,
   "metadata": {
    "scrolled": true
   },
   "outputs": [
    {
     "name": "stdout",
     "output_type": "stream",
     "text": [
      "<class 'pandas.core.frame.DataFrame'>\n",
      "Int64Index: 5198 entries, 2603 to 1323\n",
      "Data columns (total 2 columns):\n",
      " #   Column   Non-Null Count  Dtype \n",
      "---  ------   --------------  ----- \n",
      " 0   month    5198 non-null   object\n",
      " 1   country  5174 non-null   object\n",
      "dtypes: object(2)\n",
      "memory usage: 121.8+ KB\n"
     ]
    },
    {
     "data": {
      "text/plain": [
       "'\\nAhora tenemos attacks_month lista para trabajar nuestra hipótesis y la exportamos\\n'"
      ]
     },
     "execution_count": 19,
     "metadata": {},
     "output_type": "execute_result"
    }
   ],
   "source": [
    "attacks_month.info()\n",
    "'''\n",
    "Ahora tenemos attacks_month lista para trabajar nuestra hipótesis y la exportamos\n",
    "'''"
   ]
  },
  {
   "cell_type": "code",
   "execution_count": 20,
   "metadata": {},
   "outputs": [],
   "source": [
    "attacks_month.to_csv(\"Data/attacks_month.csv\", index=False)"
   ]
  },
  {
   "cell_type": "code",
   "execution_count": 21,
   "metadata": {},
   "outputs": [
    {
     "data": {
      "text/plain": [
       "array(['April', 'August', 'December', 'February', 'January', 'July',\n",
       "       'June', 'March', 'May', 'November', 'October', 'September'],\n",
       "      dtype=object)"
      ]
     },
     "execution_count": 21,
     "metadata": {},
     "output_type": "execute_result"
    }
   ],
   "source": [
    "attacks_month.month.unique()"
   ]
  }
 ],
 "metadata": {
  "kernelspec": {
   "display_name": "ironhack",
   "language": "python",
   "name": "ironhack"
  },
  "language_info": {
   "codemirror_mode": {
    "name": "ipython",
    "version": 3
   },
   "file_extension": ".py",
   "mimetype": "text/x-python",
   "name": "python",
   "nbconvert_exporter": "python",
   "pygments_lexer": "ipython3",
   "version": "3.8.5"
  }
 },
 "nbformat": 4,
 "nbformat_minor": 4
}
